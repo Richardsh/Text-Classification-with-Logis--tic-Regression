{
 "cells": [
  {
   "cell_type": "markdown",
   "metadata": {},
   "source": [
    "# [COM4513-6513] Assignment 1: Text Classification with Logistic Regression\n",
    "\n",
    "### Instructor: Nikos Aletras\n",
    "\n",
    "\n",
    "The goal of this assignment is to develop and test two text classification systems: \n",
    "\n",
    "- **Task 1:** sentiment analysis, in particular to predict the sentiment of movie review, i.e. positive or negative (binary classification).\n",
    "- **Task 2:** topic classification, to predict whether a news article is about International issues, Sports or Business (multiclass classification).\n",
    "\n",
    "\n",
    "For that purpose, you will implement:\n",
    "\n",
    "- Text processing methods for extracting Bag-Of-Word features, using (1) unigrams, bigrams and trigrams to obtain vector representations of documents. Two vector weighting schemes should be tested: (1) raw frequencies (**3 marks; 1 for each ngram type**); (2) tf.idf (**1 marks**). \n",
    "- Binary Logistic Regression classifiers that will be able to accurately classify movie reviews trained with (1) BOW-count (raw frequencies); and (2) BOW-tfidf (tf.idf weighted) for Task 1. \n",
    "- Multiclass Logistic Regression classifiers that will be able to accurately classify news articles trained with (1) BOW-count (raw frequencies); and (2) BOW-tfidf (tf.idf weighted) for Task 2. \n",
    "- The Stochastic Gradient Descent (SGD) algorithm to estimate the parameters of your Logistic Regression models. Your SGD algorithm should:\n",
    "    - Minimise the Binary Cross-entropy loss function for Task 1 (**3 marks**)\n",
    "    - Minimise the Categorical Cross-entropy loss function for Task 2 (**3 marks**)\n",
    "    - Use L2 regularisation (both tasks) (**1 mark**)\n",
    "    - Perform multiple passes (epochs) over the training data (**1 mark**)\n",
    "    - Randomise the order of training data after each pass (**1 mark**)\n",
    "    - Stop training if the difference between the current and previous validation loss is smaller than a threshold (**1 mark**)\n",
    "    - After each epoch print the training and development loss (**1 mark**)\n",
    "- Discuss how did you choose hyperparameters (e.g. learning rate and regularisation strength)?  (**2 marks; 0.5 for each model in each task**).\n",
    "- After training the LR models, plot the learning process (i.e. training and validation loss in each epoch) using a line plot (**1 mark; 0.5 for both BOW-count and BOW-tfidf LR models in each task**) and discuss if your model overfits/underfits/is about right.\n",
    "- Model interpretability by showing the most important features for each class (i.e. most positive/negative weights). Give the top 10 for each class and comment on whether they make sense (if they don't you might have a bug!).  If we were to apply the classifier we've learned into a different domain such laptop reviews or restaurant reviews, do you think these features would generalise well? Can you propose what features the classifier could pick up as important in the new domain? (**2 marks; 0.5 for BOW-count and BOW-tfidf LR models respectively in each task**)\n",
    "\n",
    "\n",
    "### Data - Task 1 \n",
    "\n",
    "The data you will use for Task 1 are taken from here: [http://www.cs.cornell.edu/people/pabo/movie-review-data/](http://www.cs.cornell.edu/people/pabo/movie-review-data/) and you can find it in the `./data_sentiment` folder in CSV format:\n",
    "\n",
    "- `data_sentiment/train.csv`: contains 1,400 reviews, 700 positive (label: 1) and 700 negative (label: 0) to be used for training.\n",
    "- `data_sentiment/dev.csv`: contains 200 reviews, 100 positive and 100 negative to be used for hyperparameter selection and monitoring the training process.\n",
    "- `data_sentiment/test.csv`: contains 400 reviews, 200 positive and 200 negative to be used for testing.\n",
    "\n",
    "### Data - Task 2\n",
    "\n",
    "The data you will use for Task 2 is a subset of the [AG News Corpus](http://groups.di.unipi.it/~gulli/AG_corpus_of_news_articles.html) and you can find it in the `./data_topic` folder in CSV format:\n",
    "\n",
    "- `data_topic/train.csv`: contains 2,400 news articles, 800 for each class to be used for training.\n",
    "- `data_topic/dev.csv`: contains 150 news articles, 50 for each class to be used for hyperparameter selection and monitoring the training process.\n",
    "- `data_topic/test.csv`: contains 900 news articles, 300 for each class to be used for testing.\n",
    "\n",
    "\n",
    "### Submission Instructions\n",
    "\n",
    "You should submit a Jupyter Notebook file (assignment1.ipynb) and an exported PDF version (you can do it from Jupyter: `File->Download as->PDF via Latex`).\n",
    "\n",
    "You are advised to follow the code structure given in this notebook by completing all given funtions. You can also write any auxilliary/helper functions (and arguments for the functions) that you might need but note that you can provide a full solution without any such functions. Similarly, you can just use only the packages imported below but you are free to use any functionality from the [Python Standard Library](https://docs.python.org/2/library/index.html), NumPy, SciPy and Pandas. You are not allowed to use any third-party library such as Scikit-learn (apart from metric functions already provided), NLTK, Spacy, Keras etc..\n",
    "\n",
    "Please make sure to comment your code. You should also mention if you've used Windows (not recommended) to write and test your code. There is no single correct answer on what your accuracy should be, but correct implementations usually achieve F1-scores around 80\\% or higher. The quality of the analysis of the results is as important as the accuracy itself. \n",
    "\n",
    "This assignment will be marked out of 20. It is worth 20\\% of your final grade in the module.\n",
    "\n",
    "The deadline for this assignment is **23:59 on Fri, 20 Mar 2020** and it needs to be submitted via MOLE. Standard departmental penalties for lateness will be applied. We use a range of strategies to detect [unfair means](https://www.sheffield.ac.uk/ssid/unfair-means/index), including Turnitin which helps detect plagiarism, so make sure you do not plagiarise.\n",
    "\n"
   ]
  },
  {
   "cell_type": "code",
   "execution_count": 205,
   "metadata": {
    "ExecuteTime": {
     "end_time": "2020-02-15T14:31:36.292691Z",
     "start_time": "2020-02-15T14:31:35.549108Z"
    }
   },
   "outputs": [],
   "source": [
    "import pandas as pd\n",
    "import numpy as np\n",
    "from collections import Counter\n",
    "import re\n",
    "import matplotlib.pyplot as plt\n",
    "from sklearn.metrics import accuracy_score, precision_score, recall_score, f1_score\n",
    "import random\n",
    "\n",
    "# set a random seed for reproducibility\n",
    "random.seed(123)\n",
    "np.random.seed(123)"
   ]
  },
  {
   "cell_type": "markdown",
   "metadata": {},
   "source": [
    "## Load Raw texts and labels into arrays\n",
    "\n",
    "First, you need to load the training, development and test sets from their corresponding CSV files (tip: you can use Pandas dataframes)."
   ]
  },
  {
   "cell_type": "code",
   "execution_count": 206,
   "metadata": {
    "ExecuteTime": {
     "end_time": "2020-02-15T14:17:28.145788Z",
     "start_time": "2020-02-15T14:17:28.066100Z"
    }
   },
   "outputs": [],
   "source": [
    "# load datasets\n",
    "train_csv = pd.read_csv('data_sentiment/train.csv',header=None)\n",
    "dev_csv = pd.read_csv('data_sentiment/dev.csv',header=None)\n",
    "test_csv = pd.read_csv('data_sentiment/test.csv',header=None)"
   ]
  },
  {
   "cell_type": "markdown",
   "metadata": {},
   "source": [
    "If you use Pandas you can see a sample of the data."
   ]
  },
  {
   "cell_type": "code",
   "execution_count": 207,
   "metadata": {
    "ExecuteTime": {
     "end_time": "2020-02-15T14:17:28.900892Z",
     "start_time": "2020-02-15T14:17:28.891221Z"
    }
   },
   "outputs": [
    {
     "data": {
      "text/html": [
       "<div>\n",
       "<style scoped>\n",
       "    .dataframe tbody tr th:only-of-type {\n",
       "        vertical-align: middle;\n",
       "    }\n",
       "\n",
       "    .dataframe tbody tr th {\n",
       "        vertical-align: top;\n",
       "    }\n",
       "\n",
       "    .dataframe thead th {\n",
       "        text-align: right;\n",
       "    }\n",
       "</style>\n",
       "<table border=\"1\" class=\"dataframe\">\n",
       "  <thead>\n",
       "    <tr style=\"text-align: right;\">\n",
       "      <th></th>\n",
       "      <th>0</th>\n",
       "      <th>1</th>\n",
       "    </tr>\n",
       "  </thead>\n",
       "  <tbody>\n",
       "    <tr>\n",
       "      <td>0</td>\n",
       "      <td>note : some may consider portions of the follo...</td>\n",
       "      <td>1</td>\n",
       "    </tr>\n",
       "    <tr>\n",
       "      <td>1</td>\n",
       "      <td>note : some may consider portions of the follo...</td>\n",
       "      <td>1</td>\n",
       "    </tr>\n",
       "    <tr>\n",
       "      <td>2</td>\n",
       "      <td>every once in a while you see a film that is s...</td>\n",
       "      <td>1</td>\n",
       "    </tr>\n",
       "    <tr>\n",
       "      <td>3</td>\n",
       "      <td>when i was growing up in 1970s , boys in my sc...</td>\n",
       "      <td>1</td>\n",
       "    </tr>\n",
       "    <tr>\n",
       "      <td>4</td>\n",
       "      <td>the muppet movie is the first , and the best m...</td>\n",
       "      <td>1</td>\n",
       "    </tr>\n",
       "  </tbody>\n",
       "</table>\n",
       "</div>"
      ],
      "text/plain": [
       "                                                   0  1\n",
       "0  note : some may consider portions of the follo...  1\n",
       "1  note : some may consider portions of the follo...  1\n",
       "2  every once in a while you see a film that is s...  1\n",
       "3  when i was growing up in 1970s , boys in my sc...  1\n",
       "4  the muppet movie is the first , and the best m...  1"
      ]
     },
     "execution_count": 207,
     "metadata": {},
     "output_type": "execute_result"
    }
   ],
   "source": [
    "train_csv.head()"
   ]
  },
  {
   "cell_type": "markdown",
   "metadata": {},
   "source": [
    "The next step is to put the raw texts into Python lists and their corresponding labels into NumPy arrays:\n"
   ]
  },
  {
   "cell_type": "code",
   "execution_count": 208,
   "metadata": {
    "ExecuteTime": {
     "end_time": "2020-02-15T14:17:31.115577Z",
     "start_time": "2020-02-15T14:17:31.108038Z"
    }
   },
   "outputs": [],
   "source": [
    "# transform into Python lists\n",
    "train_list=train_csv[0].tolist()\n",
    "dev_list=dev_csv[0].tolist()\n",
    "test_list=test_csv[0].tolist()\n",
    "# transform into NumPy arrays\n",
    "Y_tr = np.array(train_csv[1])\n",
    "Y_dev = np.array(dev_csv[1])\n",
    "Y_test = np.array(test_csv[1])"
   ]
  },
  {
   "cell_type": "markdown",
   "metadata": {},
   "source": [
    "# Bag-of-Words Representation \n",
    "\n",
    "\n",
    "To train and test Logisitc Regression models, you first need to obtain vector representations for all documents given a vocabulary of features (unigrams, bigrams, trigrams).\n",
    "\n",
    "\n",
    "## Text Pre-Processing Pipeline\n",
    "\n",
    "To obtain a vocabulary of features, you should: \n",
    "- tokenise all texts into a list of unigrams (tip: using a regular expression) \n",
    "- remove stop words (using the one provided or one of your preference) \n",
    "- compute bigrams, trigrams given the remaining unigrams\n",
    "- remove ngrams appearing in less than K documents\n",
    "- use the remaining to create a vocabulary of unigrams, bigrams and trigrams (you can keep top N if you encounter memory issues).\n"
   ]
  },
  {
   "cell_type": "code",
   "execution_count": 209,
   "metadata": {
    "ExecuteTime": {
     "end_time": "2020-02-15T14:17:31.860420Z",
     "start_time": "2020-02-15T14:17:31.855439Z"
    }
   },
   "outputs": [],
   "source": [
    "stop_words = ['a','in','on','at','and','or', \n",
    "              'to', 'the', 'of', 'an', 'by', \n",
    "              'as', 'is', 'was', 'were', 'been', 'be', \n",
    "              'are','for', 'this', 'that', 'these', 'those', 'you', 'i',\n",
    "             'it', 'he', 'she', 'we', 'they' 'will', 'have', 'has',\n",
    "              'do', 'did', 'can', 'could', 'who', 'which', 'what', \n",
    "             'his', 'her', 'they', 'them', 'from', 'with', 'its']"
   ]
  },
  {
   "cell_type": "markdown",
   "metadata": {},
   "source": [
    "### N-gram extraction from a document\n",
    "\n",
    "You first need to implement the `extract_ngrams` function. It takes as input:\n",
    "- `x_raw`: a string corresponding to the raw text of a document\n",
    "- `ngram_range`: a tuple of two integers denoting the type of ngrams you want to extract, e.g. (1,2) denotes extracting unigrams and bigrams.\n",
    "- `token_pattern`: a string to be used within a regular expression to extract all tokens. Note that data is already tokenised so you could opt for a simple white space tokenisation.\n",
    "- `stop_words`: a list of stop words\n",
    "- `vocab`: a given vocabulary. It should be used to extract specific features.\n",
    "\n",
    "and returns:\n",
    "\n",
    "- a list of all extracted features.\n",
    "\n",
    "See the examples below to see how this function should work."
   ]
  },
  {
   "cell_type": "code",
   "execution_count": 210,
   "metadata": {
    "ExecuteTime": {
     "end_time": "2020-02-15T14:17:33.169090Z",
     "start_time": "2020-02-15T14:17:33.161268Z"
    }
   },
   "outputs": [],
   "source": [
    "import re\n",
    "def extract_ngrams(x_raw, ngram_range=(1,3), token_pattern=r'\\b[A-Za-z][A-Za-z]+\\b', stop_words=[], vocab=set()):\n",
    "    # use regular expression to fina all tokens\n",
    "    wordRE = re.compile(token_pattern)\n",
    "    raw_list = wordRE.findall(str(x_raw))\n",
    "    # remove stop words\n",
    "    dealed_list = []\n",
    "    for word in raw_list:\n",
    "        if word.lower() not in stop_words:\n",
    "            dealed_list.append(word.lower())\n",
    "    x = []\n",
    "    # a function used for extracting grams \n",
    "    def getCurGrams(dealed_list, n):\n",
    "        output = []\n",
    "        if n == 3:\n",
    "            for i in range(0, len(dealed_list)-2):\n",
    "                output.append((dealed_list[i],dealed_list[i+1],dealed_list[i+2]))\n",
    "        elif n == 2:\n",
    "            for i in range(0, len(dealed_list)-1):\n",
    "                output.append((dealed_list[i],dealed_list[i+1]))\n",
    "        else:\n",
    "            for i in range(0, len(dealed_list)):\n",
    "                output.append(dealed_list[i])\n",
    "        return output\n",
    "    # extract all grams\n",
    "    for gram in range(ngram_range[0],ngram_range[1]+1):\n",
    "        x += getCurGrams(dealed_list, gram)\n",
    "    # remove grams which are not in the vocab\n",
    "    if vocab:\n",
    "        remove_x = []\n",
    "        for ele in x:\n",
    "            if ele not in list(vocab):\n",
    "                remove_x.append(ele)\n",
    "        for ele in remove_x:\n",
    "            x.remove(ele)\n",
    "    return x\n",
    "                                  "
   ]
  },
  {
   "cell_type": "code",
   "execution_count": 211,
   "metadata": {
    "ExecuteTime": {
     "end_time": "2020-02-15T14:17:33.680114Z",
     "start_time": "2020-02-15T14:17:33.675339Z"
    }
   },
   "outputs": [
    {
     "data": {
      "text/plain": [
       "['great',\n",
       " 'movie',\n",
       " 'watch',\n",
       " ('great', 'movie'),\n",
       " ('movie', 'watch'),\n",
       " ('great', 'movie', 'watch')]"
      ]
     },
     "execution_count": 211,
     "metadata": {},
     "output_type": "execute_result"
    }
   ],
   "source": [
    "extract_ngrams(\"this is a great movie to watch\", \n",
    "               ngram_range=(1,3), \n",
    "               stop_words=stop_words)"
   ]
  },
  {
   "cell_type": "code",
   "execution_count": 212,
   "metadata": {
    "ExecuteTime": {
     "end_time": "2020-02-15T14:17:34.278189Z",
     "start_time": "2020-02-15T14:17:34.273722Z"
    }
   },
   "outputs": [
    {
     "data": {
      "text/plain": [
       "['great', ('great', 'movie')]"
      ]
     },
     "execution_count": 212,
     "metadata": {},
     "output_type": "execute_result"
    }
   ],
   "source": [
    "extract_ngrams(\"this is a great movie to watch\", \n",
    "               ngram_range=(1,2), \n",
    "               stop_words=stop_words, \n",
    "               vocab=set(['great',  ('great','movie')]))"
   ]
  },
  {
   "cell_type": "markdown",
   "metadata": {},
   "source": [
    "Note that it is OK to represent n-grams using lists instead of tuples: e.g. `['great', ['great', 'movie']]`"
   ]
  },
  {
   "cell_type": "markdown",
   "metadata": {},
   "source": [
    "### Create a vocabulary of n-grams\n",
    "\n",
    "Then the `get_vocab` function will be used to (1) create a vocabulary of ngrams; (2) count the document frequencies of ngrams; (3) their raw frequency. It takes as input:\n",
    "- `X_raw`: a list of strings each corresponding to the raw text of a document\n",
    "- `ngram_range`: a tuple of two integers denoting the type of ngrams you want to extract, e.g. (1,2) denotes extracting unigrams and bigrams.\n",
    "- `token_pattern`: a string to be used within a regular expression to extract all tokens. Note that data is already tokenised so you could opt for a simple white space tokenisation.\n",
    "- `stop_words`: a list of stop words\n",
    "- `vocab`: a given vocabulary. It should be used to extract specific features.\n",
    "- `min_df`: keep ngrams with a minimum document frequency.\n",
    "- `keep_topN`: keep top-N more frequent ngrams.\n",
    "\n",
    "and returns:\n",
    "\n",
    "- `vocab`: a set of the n-grams that will be used as features.\n",
    "- `df`: a Counter (or dict) that contains ngrams as keys and their corresponding document frequency as values.\n",
    "- `ngram_counts`: counts of each ngram in vocab\n",
    "\n",
    "Hint: it should make use of the `extract_ngrams` function."
   ]
  },
  {
   "cell_type": "code",
   "execution_count": 213,
   "metadata": {
    "ExecuteTime": {
     "end_time": "2020-02-15T14:17:35.821240Z",
     "start_time": "2020-02-15T14:17:35.814722Z"
    }
   },
   "outputs": [],
   "source": [
    "from collections import Counter\n",
    "def get_vocab(X_raw, ngram_range=(1,3), token_pattern=r'\\b[A-Za-z][A-Za-z]+\\b', min_df=0, keep_topN=0, stop_words=[]):\n",
    "    vocab_raw_df = [] # a list used to store all the grams, each text's grams are unique\n",
    "    whole_corpus = [] # a list used to store the whole corpus's grams\n",
    "    for doc in X_raw:\n",
    "        # cur_str is the whole raw string of a text\n",
    "        cur_str = ''\n",
    "        cur_str_whole = ''\n",
    "        for line in doc:\n",
    "            cur_str += str(line)\n",
    "            cur_str_whole += str(line)\n",
    "        # To get all the ngrams, we can use set() to make sure that every text has no same ngram \n",
    "        # and it is the basis of counting the document frequency with \"Counter\"\n",
    "        vocab_raw_df += list(set(extract_ngrams(cur_str, ngram_range, stop_words=stop_words)))\n",
    "        whole_corpus += extract_ngrams(cur_str, ngram_range, stop_words=stop_words)\n",
    "        \n",
    "    # define a Counter\n",
    "    df = Counter(vocab_raw_df)\n",
    "    if keep_topN and keep_topN > 0:\n",
    "        vocab_counts = df.most_common(keep_topN)\n",
    "    else:\n",
    "        vocab_counts = df.most_common()\n",
    "    # filter to get those grams whose counts are greater than min_df\n",
    "    if (min_df and min_df > 1):\n",
    "        vocab_counts = list(filter(lambda x:x[1] >= min_df, vocab_counts))\n",
    "\n",
    "    vocab = set(dict(vocab_counts).keys())\n",
    "    # initiate the ngram_counts with 0\n",
    "    ngram_counts = dict.fromkeys(vocab,0)\n",
    "    for doc in whole_corpus:\n",
    "        for ngram in doc:\n",
    "            if ngram in vocab:\n",
    "                # count each gram in whole corpus\n",
    "                ngram_counts[ngram] += 1\n",
    "    \n",
    "    return (vocab, df, ngram_counts)"
   ]
  },
  {
   "cell_type": "markdown",
   "metadata": {},
   "source": [
    "Now you should use `get_vocab` to create your vocabulary and get document and raw frequencies of n-grams:"
   ]
  },
  {
   "cell_type": "code",
   "execution_count": 214,
   "metadata": {
    "ExecuteTime": {
     "end_time": "2020-02-15T14:17:39.319793Z",
     "start_time": "2020-02-15T14:17:36.836545Z"
    }
   },
   "outputs": [
    {
     "name": "stdout",
     "output_type": "stream",
     "text": [
      "5000\n",
      "\n",
      "['emotion', 'score', 'prominent', ('film', 'festival'), 'reeves', ('action', 'sequences'), 'cusack', 'between', 'becomes', ('him', 'but'), 'hands', ('back', 'into'), 'wilson', 'title', 'russell', 'dating', 'size', 'spirited', 'upper', ('so', 'well'), 'impact', ('so', 'when'), 'then', 'featuring', 'traditional', ('lot', 'more'), 'trash', 'blood', ('bottom', 'line'), 'pair', 'serves', 'showed', 'stale', 'noticeable', 'bacon', 'occurs', ('whole', 'thing'), ('other', 'words'), 'gang', 'effect', 'portrays', 'month', 'obviously', ('movie', 'but'), 'office', 'fails', 'victim', 'explains', 'cinematic', 'roots', 'among', 'exceptions', 'common', 'awkward', 'bed', 'equivalent', 'gem', ('blair', 'witch'), 'overcome', 'credits', ('know', 'but'), 'glory', ('film', 'too'), 'many', 'nuclear', 'creative', 'davis', 'but', ('film', 'actually'), ('based', 'novel'), 'lots', 'if', 'brilliantly', ('tells', 'him'), 'create', ('something', 'about'), ('doesn', 'know'), 'hiding', 'return', 'jerry', ('feel', 'like'), 'design', 'treat', 'directors', 'elderly', 'fun', 'recently', ('seems', 'like'), ('not', 'quite'), 'creatures', 'iii', ('more', 'like'), 'steve', 'there', 'proceedings', ('doesn', 'get'), ('about', 'minutes'), 'graphic', ('new', 'film'), 'fu']\n",
      "\n",
      "[('but', 1334), ('one', 1247), ('film', 1231), ('not', 1170), ('all', 1117), ('movie', 1095), ('out', 1080), ('so', 1047), ('there', 1046), ('like', 1043)]\n"
     ]
    }
   ],
   "source": [
    "vocab, df, ngram_counts = get_vocab(train_list, ngram_range=(1,3), keep_topN=5000, stop_words=stop_words)\n",
    "print(len(vocab))\n",
    "print()\n",
    "print(list(vocab)[:100])\n",
    "print()\n",
    "print(df.most_common()[:10])"
   ]
  },
  {
   "cell_type": "markdown",
   "metadata": {},
   "source": [
    "Then, you need to create vocabulary id -> word and id -> word dictionaries for reference:"
   ]
  },
  {
   "cell_type": "code",
   "execution_count": 215,
   "metadata": {
    "ExecuteTime": {
     "end_time": "2020-02-15T14:17:39.326811Z",
     "start_time": "2020-02-15T14:17:39.322256Z"
    }
   },
   "outputs": [],
   "source": [
    "vocab_dict = {}\n",
    "for i, gram in enumerate(vocab):\n",
    "    vocab_dict[gram] = i"
   ]
  },
  {
   "cell_type": "markdown",
   "metadata": {},
   "source": [
    "Now you should be able to extract n-grams for each text in the training, development and test sets:"
   ]
  },
  {
   "cell_type": "code",
   "execution_count": 217,
   "metadata": {
    "ExecuteTime": {
     "end_time": "2020-02-15T14:17:40.213253Z",
     "start_time": "2020-02-15T14:17:39.329147Z"
    }
   },
   "outputs": [],
   "source": [
    "# extract n-grams\n",
    "train_gram = []\n",
    "for doc in train_list:\n",
    "    cur_str = ''\n",
    "    for line in doc:\n",
    "        cur_str += str(line)\n",
    "    train_gram.append(extract_ngrams(cur_str, ngram_range=(1,3), stop_words=stop_words))\n",
    "    \n",
    "dev_gram = []\n",
    "for doc in dev_list:\n",
    "    cur_str = ''\n",
    "    for line in doc:\n",
    "        cur_str += str(line)\n",
    "    dev_gram.append(extract_ngrams(cur_str, ngram_range=(1,3), stop_words=stop_words))\n",
    "    \n",
    "test_gram = []\n",
    "for doc in test_list:\n",
    "    cur_str = ''\n",
    "    for line in doc:\n",
    "        cur_str += str(line)\n",
    "    test_gram.append(extract_ngrams(cur_str, ngram_range=(1,3), stop_words=stop_words))"
   ]
  },
  {
   "cell_type": "markdown",
   "metadata": {},
   "source": [
    "## Vectorise documents "
   ]
  },
  {
   "cell_type": "markdown",
   "metadata": {},
   "source": [
    "Next, write a function `vectoriser` to obtain Bag-of-ngram representations for a list of documents. The function should take as input:\n",
    "- `X_ngram`: a list of texts (documents), where each text is represented as list of n-grams in the `vocab`\n",
    "- `vocab`: a set of n-grams to be used for representing the documents\n",
    "\n",
    "and return:\n",
    "- `X_vec`: an array with dimensionality Nx|vocab| where N is the number of documents and |vocab| is the size of the vocabulary. Each element of the array should represent the frequency of a given n-gram in a document.\n"
   ]
  },
  {
   "cell_type": "code",
   "execution_count": 218,
   "metadata": {
    "ExecuteTime": {
     "end_time": "2020-02-15T14:17:40.219201Z",
     "start_time": "2020-02-15T14:17:40.215129Z"
    }
   },
   "outputs": [],
   "source": [
    "def vectorise(X_ngram, vocab):\n",
    "    # initiate X_vec\n",
    "    X_vec = [[0 for j in range(len(vocab))] for i in range(len(X_ngram))]\n",
    "    for i, doc in enumerate(X_ngram):\n",
    "        for gram in doc:\n",
    "            if gram in vocab_dict:\n",
    "                cur_index = vocab_dict[gram]\n",
    "                X_vec[i][cur_index] += 1 # count corresponding ngrams\n",
    "\n",
    "    X_vec = np.array(X_vec)\n",
    "    \n",
    "    return X_vec"
   ]
  },
  {
   "cell_type": "markdown",
   "metadata": {},
   "source": [
    "Finally, use `vectorise` to obtain document vectors for each document in the train, development and test set. You should extract both count and tf.idf vectors respectively:"
   ]
  },
  {
   "cell_type": "markdown",
   "metadata": {},
   "source": [
    "#### Count vectors"
   ]
  },
  {
   "cell_type": "code",
   "execution_count": 219,
   "metadata": {
    "ExecuteTime": {
     "end_time": "2020-02-15T14:17:41.999574Z",
     "start_time": "2020-02-15T14:17:40.376534Z"
    }
   },
   "outputs": [],
   "source": [
    "# get document vectors in the train set\n",
    "X_tr_count = vectorise(train_gram, vocab)"
   ]
  },
  {
   "cell_type": "code",
   "execution_count": 220,
   "metadata": {
    "ExecuteTime": {
     "end_time": "2020-02-15T14:17:42.004808Z",
     "start_time": "2020-02-15T14:17:42.001555Z"
    }
   },
   "outputs": [
    {
     "data": {
      "text/plain": [
       "(1400, 5000)"
      ]
     },
     "execution_count": 220,
     "metadata": {},
     "output_type": "execute_result"
    }
   ],
   "source": [
    "X_tr_count.shape"
   ]
  },
  {
   "cell_type": "code",
   "execution_count": 221,
   "metadata": {
    "ExecuteTime": {
     "end_time": "2020-02-15T14:17:42.010525Z",
     "start_time": "2020-02-15T14:17:42.006309Z"
    }
   },
   "outputs": [
    {
     "data": {
      "text/plain": [
       "array([[0, 2, 0, 0, 0, 0, 1, 0, 2, 0, 0, 1, 0, 0, 0, 0, 0, 0, 0, 0, 0, 0,\n",
       "        1, 0, 0, 0, 0, 0, 0, 0, 0, 0, 0, 0, 1, 0, 0, 0, 0, 1, 0, 0, 0, 0,\n",
       "        0, 0, 0, 0, 0, 0],\n",
       "       [0, 1, 0, 1, 0, 0, 0, 0, 0, 0, 0, 0, 0, 0, 0, 0, 0, 0, 0, 0, 0, 0,\n",
       "        4, 0, 0, 0, 0, 0, 0, 0, 0, 0, 0, 0, 0, 0, 0, 0, 0, 0, 0, 0, 0, 0,\n",
       "        0, 0, 0, 0, 0, 0]])"
      ]
     },
     "execution_count": 221,
     "metadata": {},
     "output_type": "execute_result"
    }
   ],
   "source": [
    "X_tr_count[:2,:50]"
   ]
  },
  {
   "cell_type": "code",
   "execution_count": 222,
   "metadata": {},
   "outputs": [],
   "source": [
    "# get document vectors in the development and test set\n",
    "X_dev_count = vectorise(dev_gram, vocab)\n",
    "X_test_count = vectorise(test_gram, vocab)"
   ]
  },
  {
   "cell_type": "markdown",
   "metadata": {},
   "source": [
    "#### TF.IDF vectors\n",
    "\n",
    "First compute `idfs` an array containing inverted document frequencies (Note: its elements should correspond to your `vocab`)"
   ]
  },
  {
   "cell_type": "code",
   "execution_count": 223,
   "metadata": {
    "ExecuteTime": {
     "end_time": "2020-02-15T14:17:42.022692Z",
     "start_time": "2020-02-15T14:17:42.012315Z"
    }
   },
   "outputs": [],
   "source": [
    "# get the idfs of train set\n",
    "import math\n",
    "cur_ngram_df = df.most_common(5000)\n",
    "ngram_df = [0 for i in range(len(vocab))]\n",
    "# keep ngram_df's order in the same sequence with vocab\n",
    "for gram in cur_ngram_df:\n",
    "    cur_index = vocab_dict[gram[0]]\n",
    "    ngram_df[cur_index] = gram\n",
    "    \n",
    "D = len(train_list) # the size of total documents\n",
    "idfs = [math.log10(D / x[1]) for x in ngram_df]\n",
    "idfs = np.array(idfs)"
   ]
  },
  {
   "cell_type": "markdown",
   "metadata": {},
   "source": [
    "Then transform your count vectors to tf.idf vectors:"
   ]
  },
  {
   "cell_type": "code",
   "execution_count": 227,
   "metadata": {
    "ExecuteTime": {
     "end_time": "2020-02-15T14:17:42.802265Z",
     "start_time": "2020-02-15T14:17:42.752448Z"
    }
   },
   "outputs": [],
   "source": [
    "X_tr_tfidf = [[tf*idfs[i] for (i, tf) in enumerate(doc)] for doc in X_tr_count]\n",
    "X_tr_tfidf = np.array(X_tr_tfidf)"
   ]
  },
  {
   "cell_type": "code",
   "execution_count": 228,
   "metadata": {
    "ExecuteTime": {
     "end_time": "2020-02-15T14:17:43.211619Z",
     "start_time": "2020-02-15T14:17:43.207266Z"
    }
   },
   "outputs": [
    {
     "data": {
      "text/plain": [
       "array([0.        , 1.03218468, 0.        , 1.73115469, 0.        ,\n",
       "       0.        , 0.        , 0.        , 0.        , 0.        ,\n",
       "       0.        , 0.        , 0.        , 0.        , 0.        ,\n",
       "       0.        , 0.        , 0.        , 0.        , 0.        ,\n",
       "       0.        , 0.        , 1.43467024, 0.        , 0.        ,\n",
       "       0.        , 0.        , 0.        , 0.        , 0.        ,\n",
       "       0.        , 0.        , 0.        , 0.        , 0.        ,\n",
       "       0.        , 0.        , 0.        , 0.        , 0.        ,\n",
       "       0.        , 0.        , 0.        , 0.        , 0.        ,\n",
       "       0.        , 0.        , 0.        , 0.        , 0.        ])"
      ]
     },
     "execution_count": 228,
     "metadata": {},
     "output_type": "execute_result"
    }
   ],
   "source": [
    "X_tr_tfidf[1,:50]"
   ]
  },
  {
   "cell_type": "code",
   "execution_count": 229,
   "metadata": {},
   "outputs": [],
   "source": [
    "# get the tfidfs of development set\n",
    "X_dev_tfidf = [[tf*idfs[i] for (i, tf) in enumerate(doc)] for doc in X_dev_count]\n",
    "X_dev_tfidf = np.array(X_dev_tfidf)"
   ]
  },
  {
   "cell_type": "code",
   "execution_count": 230,
   "metadata": {},
   "outputs": [],
   "source": [
    "# get the tfidfs of test set\n",
    "X_test_tfidf = [[tf*idfs[i] for (i, tf) in enumerate(doc)] for doc in X_test_count]\n",
    "X_test_tfidf = np.array(X_test_tfidf)"
   ]
  },
  {
   "cell_type": "markdown",
   "metadata": {},
   "source": [
    "# Binary Logistic Regression\n",
    "\n",
    "After obtaining vector representations of the data, now you are ready to implement Binary Logistic Regression for classifying sentiment."
   ]
  },
  {
   "cell_type": "markdown",
   "metadata": {},
   "source": [
    "First, you need to implement the `sigmoid` function. It takes as input:\n",
    "\n",
    "- `z`: a real number or an array of real numbers \n",
    "\n",
    "and returns:\n",
    "\n",
    "- `sig`: the sigmoid of `z`"
   ]
  },
  {
   "cell_type": "code",
   "execution_count": 231,
   "metadata": {
    "ExecuteTime": {
     "end_time": "2020-02-15T14:17:44.160661Z",
     "start_time": "2020-02-15T14:17:44.157902Z"
    }
   },
   "outputs": [],
   "source": [
    "def sigmoid(z):\n",
    "    \n",
    "    z = 1 / (1 + np.exp(-z))\n",
    "    \n",
    "    return z"
   ]
  },
  {
   "cell_type": "code",
   "execution_count": 232,
   "metadata": {
    "ExecuteTime": {
     "end_time": "2020-02-15T14:17:44.351292Z",
     "start_time": "2020-02-15T14:17:44.346822Z"
    }
   },
   "outputs": [
    {
     "name": "stdout",
     "output_type": "stream",
     "text": [
      "0.5\n",
      "[0.00669285 0.76852478]\n"
     ]
    }
   ],
   "source": [
    "print(sigmoid(0)) \n",
    "print(sigmoid(np.array([-5., 1.2])))"
   ]
  },
  {
   "cell_type": "markdown",
   "metadata": {},
   "source": [
    "Then, implement the `predict_proba` function to obtain prediction probabilities. It takes as input:\n",
    "\n",
    "- `X`: an array of inputs, i.e. documents represented by bag-of-ngram vectors ($N \\times |vocab|$)\n",
    "- `weights`: a 1-D array of the model's weights $(1, |vocab|)$\n",
    "\n",
    "and returns:\n",
    "\n",
    "- `preds_proba`: the prediction probabilities of X given the weights"
   ]
  },
  {
   "cell_type": "code",
   "execution_count": 233,
   "metadata": {
    "ExecuteTime": {
     "end_time": "2020-02-15T14:17:44.718566Z",
     "start_time": "2020-02-15T14:17:44.715017Z"
    }
   },
   "outputs": [],
   "source": [
    "def predict_proba(X, weights):\n",
    "    # z is the mastrix product of X and weights\n",
    "    Z = np.dot(X, weights.T)\n",
    "    preds_proba = sigmoid(Z)\n",
    "    \n",
    "    return preds_proba"
   ]
  },
  {
   "cell_type": "markdown",
   "metadata": {},
   "source": [
    "Then, implement the `predict_class` function to obtain the most probable class for each vector in an array of input vectors. It takes as input:\n",
    "\n",
    "- `X`: an array of documents represented by bag-of-ngram vectors ($N \\times |vocab|$)\n",
    "- `weights`: a 1-D array of the model's weights $(1, |vocab|)$\n",
    "\n",
    "and returns:\n",
    "\n",
    "- `preds_class`: the predicted class for each x in X given the weights"
   ]
  },
  {
   "cell_type": "code",
   "execution_count": 234,
   "metadata": {
    "ExecuteTime": {
     "end_time": "2020-02-15T14:17:45.002125Z",
     "start_time": "2020-02-15T14:17:44.998668Z"
    }
   },
   "outputs": [],
   "source": [
    "def predict_class(X, weights):\n",
    "    \n",
    "    # get the prediction probabilities\n",
    "    predict_data = predict_proba(X, weights)\n",
    "    # get the corresponding class\n",
    "    preds_class = []\n",
    "    for x in predict_data:\n",
    "        if x < 0.5:\n",
    "            preds_class.append(0)\n",
    "        else:\n",
    "            preds_class.append(1)\n",
    "    preds_class = np.array(preds_class)\n",
    "    \n",
    "    return preds_class"
   ]
  },
  {
   "cell_type": "markdown",
   "metadata": {},
   "source": [
    "To learn the weights from data, we need to minimise the binary cross-entropy loss. Implement `binary_loss` that takes as input:\n",
    "\n",
    "- `X`: input vectors\n",
    "- `Y`: labels\n",
    "- `weights`: model weights\n",
    "- `alpha`: regularisation strength\n",
    "\n",
    "and return:\n",
    "\n",
    "- `l`: the loss score"
   ]
  },
  {
   "cell_type": "code",
   "execution_count": 235,
   "metadata": {
    "ExecuteTime": {
     "end_time": "2020-02-15T14:17:45.455533Z",
     "start_time": "2020-02-15T14:17:45.451475Z"
    }
   },
   "outputs": [],
   "source": [
    "def binary_loss(X, Y, weights, alpha=0.00001):\n",
    "    \n",
    "    H = predict_proba(X, weights)\n",
    "    m = Y.shape[0]\n",
    "    # get the loss value\n",
    "    L = -np.dot(Y,np.log(H))-np.dot((1-Y),np.log(1-H))\n",
    "    weights_l2 = np.array([x*x for x in weights])\n",
    "    # add model weights\n",
    "    l = L/m + alpha*np.sum(weights_l2)\n",
    "\n",
    "    return l"
   ]
  },
  {
   "cell_type": "markdown",
   "metadata": {},
   "source": [
    "Now, you can implement Stochastic Gradient Descent to learn the weights of your sentiment classifier. The `SGD` function takes as input:\n",
    "\n",
    "- `X_tr`: array of training data (vectors)\n",
    "- `Y_tr`: labels of `X_tr`\n",
    "- `X_dev`: array of development (i.e. validation) data (vectors)\n",
    "- `Y_dev`: labels of `X_dev`\n",
    "- `lr`: learning rate\n",
    "- `alpha`: regularisation strength\n",
    "- `epochs`: number of full passes over the training data\n",
    "- `tolerance`: stop training if the difference between the current and previous validation loss is smaller than a threshold\n",
    "- `print_progress`: flag for printing the training progress (train/validation loss)\n",
    "\n",
    "\n",
    "and returns:\n",
    "\n",
    "- `weights`: the weights learned\n",
    "- `training_loss_history`: an array with the average losses of the whole training set after each epoch\n",
    "- `validation_loss_history`: an array with the average losses of the whole development set after each epoch"
   ]
  },
  {
   "cell_type": "code",
   "execution_count": 236,
   "metadata": {
    "ExecuteTime": {
     "end_time": "2020-02-15T14:17:45.968510Z",
     "start_time": "2020-02-15T14:17:45.958185Z"
    }
   },
   "outputs": [],
   "source": [
    "def SGD(X_tr, Y_tr, X_dev=[], Y_dev=[], loss=\"binary\", lr=0.1, alpha=0.00001, epochs=5, tolerance=0.0001, print_progress=True):\n",
    "    \n",
    "    training_loss_history = []\n",
    "    validation_loss_history = []\n",
    "    # initiate the weights\n",
    "    W = np.zeros(X_tr.shape[1])\n",
    "    # get the loss of development set at the beginning\n",
    "    loss_dev = binary_loss(X_dev, Y_dev, W, alpha)\n",
    "    for e in range(epochs):\n",
    "        random.seed(123)\n",
    "        np.random.seed(123)\n",
    "        # shuffle X_tr and corresponding Y_tr\n",
    "        shuffle_indices = np.random.permutation(np.arange(len(X_tr))) \n",
    "        X_tr = X_tr[shuffle_indices]\n",
    "        Y_tr = Y_tr[shuffle_indices]\n",
    "        # update weights\n",
    "        for i,x in enumerate(X_tr):\n",
    "            h = predict_proba(x, W)\n",
    "            dW = np.dot(x.T, (h-Y_tr[i])) + 2*alpha*W\n",
    "            W -= lr*dW\n",
    "        loss_tr = binary_loss(X_tr, Y_tr, W, alpha)\n",
    "        training_loss_history.append(loss_tr)\n",
    "        loss_cur = binary_loss(X_dev, Y_dev, W, alpha)\n",
    "        validation_loss_history.append(loss_cur)\n",
    "        if print_progress:\n",
    "            print('Epoch: %d| Training loss: %f | Validation loss: %f'%(e,loss_tr,loss_cur))\n",
    "        if loss_dev - loss_cur < tolerance:\n",
    "            print('diff',loss_dev - loss_cur)\n",
    "            break\n",
    "        loss_dev = loss_cur\n",
    "    \n",
    "    weights = W\n",
    "    training_loss_history = np.array(training_loss_history)\n",
    "    validation_loss_history = np.array(validation_loss_history)\n",
    "\n",
    "    return weights, training_loss_history, validation_loss_history"
   ]
  },
  {
   "cell_type": "markdown",
   "metadata": {},
   "source": [
    "## Train and Evaluate Logistic Regression with Count vectors\n",
    "\n",
    "First train the model using SGD:"
   ]
  },
  {
   "cell_type": "code",
   "execution_count": 311,
   "metadata": {
    "ExecuteTime": {
     "end_time": "2020-02-15T14:17:51.480197Z",
     "start_time": "2020-02-15T14:17:46.362729Z"
    }
   },
   "outputs": [
    {
     "name": "stdout",
     "output_type": "stream",
     "text": [
      "Epoch: 0| Training loss: 0.657963 | Validation loss: 0.666680\n",
      "Epoch: 1| Training loss: 0.630432 | Validation loss: 0.647845\n",
      "Epoch: 2| Training loss: 0.606810 | Validation loss: 0.629664\n",
      "Epoch: 3| Training loss: 0.586916 | Validation loss: 0.617004\n",
      "Epoch: 4| Training loss: 0.569191 | Validation loss: 0.604093\n",
      "Epoch: 5| Training loss: 0.553692 | Validation loss: 0.593436\n",
      "Epoch: 6| Training loss: 0.539760 | Validation loss: 0.583908\n",
      "Epoch: 7| Training loss: 0.527113 | Validation loss: 0.576027\n",
      "Epoch: 8| Training loss: 0.515592 | Validation loss: 0.567965\n",
      "Epoch: 9| Training loss: 0.504881 | Validation loss: 0.561219\n",
      "Epoch: 10| Training loss: 0.495015 | Validation loss: 0.554929\n",
      "Epoch: 11| Training loss: 0.485921 | Validation loss: 0.548560\n",
      "Epoch: 12| Training loss: 0.477249 | Validation loss: 0.543251\n",
      "Epoch: 13| Training loss: 0.469325 | Validation loss: 0.537842\n",
      "Epoch: 14| Training loss: 0.461972 | Validation loss: 0.532907\n",
      "Epoch: 15| Training loss: 0.454441 | Validation loss: 0.528852\n",
      "Epoch: 16| Training loss: 0.447644 | Validation loss: 0.524667\n",
      "Epoch: 17| Training loss: 0.441217 | Validation loss: 0.520376\n",
      "Epoch: 18| Training loss: 0.435040 | Validation loss: 0.516717\n",
      "Epoch: 19| Training loss: 0.429980 | Validation loss: 0.515158\n",
      "Epoch: 20| Training loss: 0.423587 | Validation loss: 0.509521\n",
      "Epoch: 21| Training loss: 0.418305 | Validation loss: 0.506036\n",
      "Epoch: 22| Training loss: 0.413193 | Validation loss: 0.502870\n",
      "Epoch: 23| Training loss: 0.408136 | Validation loss: 0.500610\n",
      "Epoch: 24| Training loss: 0.403428 | Validation loss: 0.497050\n",
      "Epoch: 25| Training loss: 0.398728 | Validation loss: 0.494585\n",
      "Epoch: 26| Training loss: 0.394345 | Validation loss: 0.491707\n",
      "Epoch: 27| Training loss: 0.390132 | Validation loss: 0.489073\n",
      "Epoch: 28| Training loss: 0.386069 | Validation loss: 0.487731\n",
      "Epoch: 29| Training loss: 0.381859 | Validation loss: 0.484602\n",
      "Epoch: 30| Training loss: 0.378207 | Validation loss: 0.481904\n",
      "Epoch: 31| Training loss: 0.374286 | Validation loss: 0.480493\n",
      "Epoch: 32| Training loss: 0.370558 | Validation loss: 0.477967\n",
      "Epoch: 33| Training loss: 0.367007 | Validation loss: 0.475849\n",
      "Epoch: 34| Training loss: 0.363558 | Validation loss: 0.473941\n",
      "Epoch: 35| Training loss: 0.360437 | Validation loss: 0.471592\n",
      "Epoch: 36| Training loss: 0.356966 | Validation loss: 0.469893\n",
      "Epoch: 37| Training loss: 0.354107 | Validation loss: 0.467919\n",
      "Epoch: 38| Training loss: 0.350664 | Validation loss: 0.466672\n",
      "Epoch: 39| Training loss: 0.347654 | Validation loss: 0.464669\n",
      "Epoch: 40| Training loss: 0.344691 | Validation loss: 0.463082\n",
      "Epoch: 41| Training loss: 0.341803 | Validation loss: 0.461534\n",
      "Epoch: 42| Training loss: 0.338993 | Validation loss: 0.460070\n",
      "Epoch: 43| Training loss: 0.336693 | Validation loss: 0.459757\n",
      "Epoch: 44| Training loss: 0.333753 | Validation loss: 0.457733\n",
      "Epoch: 45| Training loss: 0.330947 | Validation loss: 0.455728\n",
      "Epoch: 46| Training loss: 0.328432 | Validation loss: 0.454558\n",
      "Epoch: 47| Training loss: 0.325988 | Validation loss: 0.452582\n",
      "Epoch: 48| Training loss: 0.323461 | Validation loss: 0.451873\n",
      "Epoch: 49| Training loss: 0.320988 | Validation loss: 0.450205\n",
      "Epoch: 50| Training loss: 0.318688 | Validation loss: 0.448778\n",
      "Epoch: 51| Training loss: 0.316386 | Validation loss: 0.448129\n",
      "Epoch: 52| Training loss: 0.314046 | Validation loss: 0.446587\n",
      "Epoch: 53| Training loss: 0.311931 | Validation loss: 0.445908\n",
      "Epoch: 54| Training loss: 0.309666 | Validation loss: 0.444504\n",
      "Epoch: 55| Training loss: 0.307499 | Validation loss: 0.443147\n",
      "Epoch: 56| Training loss: 0.305394 | Validation loss: 0.442078\n",
      "Epoch: 57| Training loss: 0.303334 | Validation loss: 0.440978\n",
      "Epoch: 58| Training loss: 0.301300 | Validation loss: 0.440051\n",
      "Epoch: 59| Training loss: 0.299428 | Validation loss: 0.438777\n",
      "Epoch: 60| Training loss: 0.297460 | Validation loss: 0.437802\n",
      "Epoch: 61| Training loss: 0.295428 | Validation loss: 0.437134\n",
      "Epoch: 62| Training loss: 0.293550 | Validation loss: 0.436026\n",
      "Epoch: 63| Training loss: 0.291685 | Validation loss: 0.435344\n",
      "Epoch: 64| Training loss: 0.289903 | Validation loss: 0.434637\n",
      "Epoch: 65| Training loss: 0.288047 | Validation loss: 0.433506\n",
      "Epoch: 66| Training loss: 0.286273 | Validation loss: 0.432617\n",
      "Epoch: 67| Training loss: 0.284566 | Validation loss: 0.431972\n",
      "Epoch: 68| Training loss: 0.282885 | Validation loss: 0.430731\n",
      "Epoch: 69| Training loss: 0.281219 | Validation loss: 0.430507\n",
      "Epoch: 70| Training loss: 0.279459 | Validation loss: 0.429311\n",
      "Epoch: 71| Training loss: 0.277907 | Validation loss: 0.428923\n",
      "Epoch: 72| Training loss: 0.276305 | Validation loss: 0.428201\n",
      "Epoch: 73| Training loss: 0.274636 | Validation loss: 0.426911\n",
      "Epoch: 74| Training loss: 0.273090 | Validation loss: 0.426149\n",
      "Epoch: 75| Training loss: 0.271510 | Validation loss: 0.425513\n",
      "Epoch: 76| Training loss: 0.269992 | Validation loss: 0.425039\n",
      "Epoch: 77| Training loss: 0.268477 | Validation loss: 0.424174\n",
      "Epoch: 78| Training loss: 0.267131 | Validation loss: 0.423356\n",
      "Epoch: 79| Training loss: 0.265543 | Validation loss: 0.422798\n",
      "Epoch: 80| Training loss: 0.264210 | Validation loss: 0.422060\n",
      "Epoch: 81| Training loss: 0.262691 | Validation loss: 0.421491\n",
      "Epoch: 82| Training loss: 0.261310 | Validation loss: 0.420831\n",
      "Epoch: 83| Training loss: 0.259886 | Validation loss: 0.420329\n",
      "Epoch: 84| Training loss: 0.258595 | Validation loss: 0.420086\n",
      "Epoch: 85| Training loss: 0.257196 | Validation loss: 0.419327\n",
      "Epoch: 86| Training loss: 0.255926 | Validation loss: 0.418942\n",
      "Epoch: 87| Training loss: 0.254608 | Validation loss: 0.418370\n",
      "Epoch: 88| Training loss: 0.253242 | Validation loss: 0.417578\n",
      "Epoch: 89| Training loss: 0.251948 | Validation loss: 0.416903\n",
      "Epoch: 90| Training loss: 0.250689 | Validation loss: 0.416318\n",
      "Epoch: 91| Training loss: 0.249459 | Validation loss: 0.416026\n",
      "Epoch: 92| Training loss: 0.248227 | Validation loss: 0.415220\n",
      "Epoch: 93| Training loss: 0.247055 | Validation loss: 0.414677\n",
      "Epoch: 94| Training loss: 0.245819 | Validation loss: 0.414195\n",
      "Epoch: 95| Training loss: 0.244582 | Validation loss: 0.413858\n",
      "Epoch: 96| Training loss: 0.243417 | Validation loss: 0.413460\n",
      "Epoch: 97| Training loss: 0.242243 | Validation loss: 0.412920\n",
      "Epoch: 98| Training loss: 0.241114 | Validation loss: 0.412560\n",
      "Epoch: 99| Training loss: 0.239954 | Validation loss: 0.411917\n",
      "Epoch: 100| Training loss: 0.238841 | Validation loss: 0.411406\n",
      "Epoch: 101| Training loss: 0.237723 | Validation loss: 0.411113\n",
      "Epoch: 102| Training loss: 0.236628 | Validation loss: 0.410528\n",
      "Epoch: 103| Training loss: 0.235531 | Validation loss: 0.410167\n",
      "Epoch: 104| Training loss: 0.234455 | Validation loss: 0.409743\n",
      "Epoch: 105| Training loss: 0.233407 | Validation loss: 0.409460\n",
      "Epoch: 106| Training loss: 0.232340 | Validation loss: 0.408954\n",
      "Epoch: 107| Training loss: 0.231311 | Validation loss: 0.408453\n",
      "Epoch: 108| Training loss: 0.230268 | Validation loss: 0.408145\n",
      "Epoch: 109| Training loss: 0.229300 | Validation loss: 0.407996\n",
      "Epoch: 110| Training loss: 0.228272 | Validation loss: 0.407550\n",
      "Epoch: 111| Training loss: 0.227301 | Validation loss: 0.407263\n",
      "Epoch: 112| Training loss: 0.226269 | Validation loss: 0.406736\n",
      "Epoch: 113| Training loss: 0.225277 | Validation loss: 0.406229\n",
      "Epoch: 114| Training loss: 0.224344 | Validation loss: 0.406087\n",
      "Epoch: 115| Training loss: 0.223367 | Validation loss: 0.405670\n",
      "Epoch: 116| Training loss: 0.222402 | Validation loss: 0.405168\n",
      "Epoch: 117| Training loss: 0.221467 | Validation loss: 0.404914\n",
      "Epoch: 118| Training loss: 0.220531 | Validation loss: 0.404510\n",
      "Epoch: 119| Training loss: 0.219627 | Validation loss: 0.404303\n",
      "Epoch: 120| Training loss: 0.218734 | Validation loss: 0.403749\n",
      "Epoch: 121| Training loss: 0.217841 | Validation loss: 0.403425\n",
      "Epoch: 122| Training loss: 0.216948 | Validation loss: 0.403103\n",
      "Epoch: 123| Training loss: 0.216015 | Validation loss: 0.402913\n",
      "Epoch: 124| Training loss: 0.215147 | Validation loss: 0.402531\n",
      "Epoch: 125| Training loss: 0.214292 | Validation loss: 0.402199\n",
      "Epoch: 126| Training loss: 0.213415 | Validation loss: 0.402081\n",
      "Epoch: 127| Training loss: 0.212657 | Validation loss: 0.401577\n",
      "Epoch: 128| Training loss: 0.211726 | Validation loss: 0.401329\n",
      "Epoch: 129| Training loss: 0.210887 | Validation loss: 0.401050\n",
      "Epoch: 130| Training loss: 0.210048 | Validation loss: 0.400791\n"
     ]
    },
    {
     "name": "stdout",
     "output_type": "stream",
     "text": [
      "Epoch: 131| Training loss: 0.209231 | Validation loss: 0.400682\n",
      "Epoch: 132| Training loss: 0.208417 | Validation loss: 0.400417\n",
      "Epoch: 133| Training loss: 0.207598 | Validation loss: 0.400090\n",
      "Epoch: 134| Training loss: 0.206794 | Validation loss: 0.399771\n",
      "Epoch: 135| Training loss: 0.206011 | Validation loss: 0.399608\n",
      "Epoch: 136| Training loss: 0.205214 | Validation loss: 0.399249\n",
      "Epoch: 137| Training loss: 0.204436 | Validation loss: 0.399042\n",
      "Epoch: 138| Training loss: 0.203666 | Validation loss: 0.398699\n",
      "Epoch: 139| Training loss: 0.202895 | Validation loss: 0.398488\n",
      "Epoch: 140| Training loss: 0.202136 | Validation loss: 0.398240\n",
      "Epoch: 141| Training loss: 0.201403 | Validation loss: 0.398174\n",
      "diff 6.61914056235835e-05\n"
     ]
    }
   ],
   "source": [
    "w_count, training_loss_history, validation_loss_history = SGD(X_tr_count, Y_tr, \n",
    "                                             X_dev=X_dev_count, \n",
    "                                             Y_dev=Y_dev, \n",
    "                                             lr=0.00005, \n",
    "                                             alpha=0.0001, \n",
    "                                             epochs=150)"
   ]
  },
  {
   "cell_type": "markdown",
   "metadata": {},
   "source": [
    "Now plot the training and validation history per epoch. Does your model underfit, overfit or is it about right? Explain why."
   ]
  },
  {
   "cell_type": "code",
   "execution_count": 312,
   "metadata": {
    "ExecuteTime": {
     "end_time": "2020-02-15T14:17:51.598911Z",
     "start_time": "2020-02-15T14:17:51.482307Z"
    }
   },
   "outputs": [
    {
     "data": {
      "image/png": "[encoded data removed]",
      "text/plain": [
       "<Figure size 432x288 with 1 Axes>"
      ]
     },
     "metadata": {
      "needs_background": "light"
     },
     "output_type": "display_data"
    }
   ],
   "source": [
    "import matplotlib.pyplot as plt\n",
    "cur_size = training_loss_history.shape[0]\n",
    "x_axix = np.linspace(0,cur_size-1,num = cur_size)\n",
    "plt.title('Training Monitering')\n",
    "plt.plot(x_axix, training_loss_history, color='green', label='training loss')\n",
    "plt.plot(x_axix, validation_loss_history, color='skyblue', label='validation loss')\n",
    "plt.legend()\n",
    "plt.xlabel('Epochs')\n",
    "plt.ylabel('Loss')\n",
    "plt.show()"
   ]
  },
  {
   "cell_type": "markdown",
   "metadata": {
    "ExecuteTime": {
     "end_time": "2020-01-21T16:52:26.583150Z",
     "start_time": "2020-01-21T16:52:26.578754Z"
    }
   },
   "source": [
    "Explain here..."
   ]
  },
  {
   "cell_type": "markdown",
   "metadata": {},
   "source": [
    "It may be overfitting. Because the difference between validation loss and training loss tends to amplify and the validation loss is be prone to be stable while the training loss is still dropping slowly."
   ]
  },
  {
   "cell_type": "markdown",
   "metadata": {},
   "source": [
    "Compute accuracy, precision, recall and F1-scores:"
   ]
  },
  {
   "cell_type": "code",
   "execution_count": 239,
   "metadata": {
    "ExecuteTime": {
     "end_time": "2020-02-15T14:37:40.569499Z",
     "start_time": "2020-02-15T14:37:40.566796Z"
    }
   },
   "outputs": [
    {
     "name": "stdout",
     "output_type": "stream",
     "text": [
      "Accuracy: 0.8325\n",
      "Precision: 0.85\n",
      "Recall: 0.821256038647343\n",
      "F1-Score: 0.8353808353808354\n"
     ]
    }
   ],
   "source": [
    "def accuracy_score(Y_te,preds_te_count):\n",
    "    # get the prediction classes\n",
    "    Y_predict = predict_class(preds_te_count, w_count)\n",
    "    # calculate the number of predictions are right\n",
    "    result_arr = Y_te == Y_predict\n",
    "    right_num = sum(result_arr==True)\n",
    "    accuracy_score = right_num/Y_te.shape[0]\n",
    "    return accuracy_score\n",
    "\n",
    "def precision_score(Y_te,preds_te_count):\n",
    "    Y_predict = predict_class(preds_te_count, w_count)\n",
    "    # calculate the number of positive predictions in right predictions\n",
    "    TruePositive = Y_te[Y_te == Y_predict] == 1\n",
    "    # calculate the number of positive predictions in false predictions\n",
    "    FalsePositive = Y_te[Y_te != Y_predict] == 1\n",
    "    TP_num = sum(TruePositive==True)\n",
    "    FP_num = sum(FalsePositive==True)\n",
    "    precision_score = TP_num/(TP_num+FP_num)\n",
    "    return precision_score\n",
    "\n",
    "def recall_score(Y_te,preds_te_count):\n",
    "    Y_predict = predict_class(preds_te_count, w_count)\n",
    "    # calculate the number of positive predictions in right predictions\n",
    "    TruePositive = Y_te[Y_te == Y_predict] == 1\n",
    "    # calculate the number of negative predictions in false predictions\n",
    "    FalseNegative = Y_te[Y_te != Y_predict] == 0\n",
    "    TP_num = sum(TruePositive==True)\n",
    "    FN_num = sum(FalseNegative==True)\n",
    "    recall_score = TP_num/(TP_num+FN_num)\n",
    "    return recall_score\n",
    "\n",
    "def f1_score(Y_te,preds_te_count):\n",
    "    PS = precision_score(Y_te,preds_te_count)\n",
    "    CS = recall_score(Y_te,preds_te_count)\n",
    "    f1_score = 2*PS*CS/(PS+CS)\n",
    "    return f1_score\n",
    "\n",
    "print('Accuracy:', accuracy_score(Y_test,X_test_count))\n",
    "print('Precision:', precision_score(Y_test,X_test_count))\n",
    "print('Recall:', recall_score(Y_test,X_test_count))\n",
    "print('F1-Score:', f1_score(Y_test,X_test_count))"
   ]
  },
  {
   "cell_type": "markdown",
   "metadata": {},
   "source": [
    "Finally, print the top-10 words for the negative and positive class respectively."
   ]
  },
  {
   "cell_type": "code",
   "execution_count": 240,
   "metadata": {
    "ExecuteTime": {
     "end_time": "2020-02-15T14:37:07.638179Z",
     "start_time": "2020-02-15T14:37:07.635838Z"
    }
   },
   "outputs": [
    {
     "name": "stdout",
     "output_type": "stream",
     "text": [
      "top 10 words for the positive:\n",
      " ('great', 'well', 'also', 'seen', 'fun', 'life', 'many', 'world', 'movies', 'both')\n"
     ]
    }
   ],
   "source": [
    "Z_w = zip(w_count,vocab)\n",
    "# sort Z_w from high to low\n",
    "Z_w_sorted = sorted(Z_w,key=lambda x: x[0],reverse=True)\n",
    "w_new,vocab_new = zip(*Z_w_sorted)\n",
    "\n",
    "# so the top 10 words for the positive are below:\n",
    "positive_top_10 = vocab_new[:10]\n",
    "print('top 10 words for the positive:\\n',positive_top_10)\n"
   ]
  },
  {
   "cell_type": "code",
   "execution_count": 241,
   "metadata": {
    "ExecuteTime": {
     "end_time": "2020-02-15T14:37:08.381103Z",
     "start_time": "2020-02-15T14:37:08.378641Z"
    }
   },
   "outputs": [
    {
     "name": "stdout",
     "output_type": "stream",
     "text": [
      "top 10 words for the negative:\n",
      " ('nothing', 'any', 'boring', 'plot', 'why', 'script', 'worst', 'unfortunately', 'only', 'bad')\n"
     ]
    }
   ],
   "source": [
    "# so the top 10 words for the negative are below:\n",
    "negative_top_10 = vocab_new[-10:]\n",
    "print('top 10 words for the negative:\\n',negative_top_10)"
   ]
  },
  {
   "cell_type": "markdown",
   "metadata": {},
   "source": [
    "If we were to apply the classifier we've learned into a different domain such laptop reviews or restaurant reviews, do you think these features would generalise well? Can you propose what features the classifier could pick up as important in the new domain?"
   ]
  },
  {
   "cell_type": "markdown",
   "metadata": {},
   "source": [
    "Provide your answer here..."
   ]
  },
  {
   "cell_type": "markdown",
   "metadata": {},
   "source": [
    "Some of the classifier's features would generalise well while some are bad in a different domain. I will pick up 'great', 'fun', 'well', 'boring', 'worst', 'unfortunately', 'bad' etc. as important in the new domain."
   ]
  },
  {
   "cell_type": "markdown",
   "metadata": {},
   "source": [
    "## Train and Evaluate Logistic Regression with TF.IDF vectors\n",
    "\n",
    "Follow the same steps as above (i.e. evaluating count n-gram representations).\n"
   ]
  },
  {
   "cell_type": "code",
   "execution_count": 313,
   "metadata": {
    "ExecuteTime": {
     "end_time": "2020-02-15T14:17:54.414637Z",
     "start_time": "2020-02-15T14:17:51.625934Z"
    },
    "scrolled": true
   },
   "outputs": [
    {
     "name": "stdout",
     "output_type": "stream",
     "text": [
      "Epoch: 0| Training loss: 0.429285 | Validation loss: 0.546449\n",
      "Epoch: 1| Training loss: 0.332395 | Validation loss: 0.494286\n",
      "Epoch: 2| Training loss: 0.275775 | Validation loss: 0.462961\n",
      "Epoch: 3| Training loss: 0.237538 | Validation loss: 0.442716\n",
      "Epoch: 4| Training loss: 0.209505 | Validation loss: 0.428144\n",
      "Epoch: 5| Training loss: 0.187724 | Validation loss: 0.417131\n",
      "Epoch: 6| Training loss: 0.170417 | Validation loss: 0.408762\n",
      "Epoch: 7| Training loss: 0.156060 | Validation loss: 0.401682\n",
      "Epoch: 8| Training loss: 0.144170 | Validation loss: 0.396299\n",
      "Epoch: 9| Training loss: 0.133919 | Validation loss: 0.391731\n",
      "Epoch: 10| Training loss: 0.125104 | Validation loss: 0.388081\n",
      "Epoch: 11| Training loss: 0.117399 | Validation loss: 0.385471\n",
      "Epoch: 12| Training loss: 0.110663 | Validation loss: 0.382968\n",
      "Epoch: 13| Training loss: 0.104643 | Validation loss: 0.380753\n",
      "Epoch: 14| Training loss: 0.099251 | Validation loss: 0.378837\n",
      "Epoch: 15| Training loss: 0.094440 | Validation loss: 0.377395\n",
      "Epoch: 16| Training loss: 0.090035 | Validation loss: 0.376065\n",
      "Epoch: 17| Training loss: 0.086067 | Validation loss: 0.374979\n",
      "Epoch: 18| Training loss: 0.082429 | Validation loss: 0.374027\n",
      "Epoch: 19| Training loss: 0.079129 | Validation loss: 0.373302\n",
      "Epoch: 20| Training loss: 0.076047 | Validation loss: 0.372756\n",
      "Epoch: 21| Training loss: 0.073229 | Validation loss: 0.372269\n",
      "Epoch: 22| Training loss: 0.070628 | Validation loss: 0.371919\n",
      "Epoch: 23| Training loss: 0.068189 | Validation loss: 0.371564\n",
      "Epoch: 24| Training loss: 0.065937 | Validation loss: 0.371291\n",
      "Epoch: 25| Training loss: 0.063828 | Validation loss: 0.371079\n",
      "Epoch: 26| Training loss: 0.061859 | Validation loss: 0.370897\n",
      "Epoch: 27| Training loss: 0.060028 | Validation loss: 0.370909\n",
      "diff -1.2678975106539259e-05\n"
     ]
    }
   ],
   "source": [
    "w_tfidf, trl, devl = SGD(X_tr_tfidf, Y_tr, \n",
    "                         X_dev=X_dev_tfidf, \n",
    "                         Y_dev=Y_dev, \n",
    "                         lr=0.001, \n",
    "                         alpha=0.0001, \n",
    "                         epochs=200)"
   ]
  },
  {
   "cell_type": "markdown",
   "metadata": {},
   "source": [
    "Now plot the training and validation history per epoch. Does your model underfit, overfit or is it about right? Explain why."
   ]
  },
  {
   "cell_type": "code",
   "execution_count": 315,
   "metadata": {
    "ExecuteTime": {
     "end_time": "2020-02-15T14:17:54.517668Z",
     "start_time": "2020-02-15T14:17:54.417118Z"
    }
   },
   "outputs": [
    {
     "data": {
      "image/png": "[encoded data removed]",
      "text/plain": [
       "<Figure size 432x288 with 1 Axes>"
      ]
     },
     "metadata": {
      "needs_background": "light"
     },
     "output_type": "display_data"
    }
   ],
   "source": [
    "cur_size_tfidf = trl.shape[0]\n",
    "x_ax_tfidf = np.linspace(0,cur_size_tfidf-1,num = cur_size_tfidf)\n",
    "plt.title('Training Monitering')\n",
    "plt.plot(x_ax_tfidf, trl, color='green', label='training loss')\n",
    "plt.plot(x_ax_tfidf, devl, color='skyblue', label='validation loss')\n",
    "plt.legend()\n",
    "plt.xlabel('Epochs')\n",
    "plt.ylabel('Loss')\n",
    "plt.show()"
   ]
  },
  {
   "cell_type": "markdown",
   "metadata": {},
   "source": [
    "It may be overfitting. Because the final difference between validation loss and training loss is large and the validation loss is prone to be stable while the training loss is still dropping slowly."
   ]
  },
  {
   "cell_type": "markdown",
   "metadata": {},
   "source": [
    "Compute accuracy, precision, recall and F1-scores:"
   ]
  },
  {
   "cell_type": "code",
   "execution_count": 316,
   "metadata": {
    "ExecuteTime": {
     "end_time": "2020-02-15T14:37:56.489814Z",
     "start_time": "2020-02-15T14:37:56.487014Z"
    }
   },
   "outputs": [
    {
     "name": "stdout",
     "output_type": "stream",
     "text": [
      "Accuracy: 0.835\n",
      "Precision: 0.93\n",
      "Recall: 0.7815126050420168\n",
      "F1-Score: 0.8493150684931506\n"
     ]
    }
   ],
   "source": [
    "print('Accuracy:', accuracy_score(Y_test,X_test_tfidf))\n",
    "print('Precision:', precision_score(Y_test,X_test_tfidf))\n",
    "print('Recall:', recall_score(Y_test,X_test_tfidf))\n",
    "print('F1-Score:', f1_score(Y_test,X_test_tfidf))"
   ]
  },
  {
   "cell_type": "markdown",
   "metadata": {},
   "source": [
    "Print top-10 most positive and negative words:"
   ]
  },
  {
   "cell_type": "code",
   "execution_count": 317,
   "metadata": {
    "ExecuteTime": {
     "end_time": "2020-02-15T14:38:17.845485Z",
     "start_time": "2020-02-15T14:38:17.842557Z"
    }
   },
   "outputs": [
    {
     "name": "stdout",
     "output_type": "stream",
     "text": [
      "top 10 words for the positive:\n",
      " ('great', 'hilarious', 'fun', 'perfectly', 'overall', 'terrific', 'definitely', 'life', 'seen', 'simple')\n"
     ]
    }
   ],
   "source": [
    "Z_w_tfidf = zip(w_tfidf,vocab)\n",
    "Z_w_tfidf_sorted = sorted(Z_w_tfidf,key=lambda x: x[0],reverse=True)\n",
    "w_new_tfidf,vocab_new_tfidf = zip(*Z_w_tfidf_sorted)\n",
    "\n",
    "# so the top 10 words for the positive are below:\n",
    "positive_top_tfidf_10 = vocab_new_tfidf[:10]\n",
    "print('top 10 words for the positive:\\n',positive_top_tfidf_10)"
   ]
  },
  {
   "cell_type": "code",
   "execution_count": 319,
   "metadata": {
    "ExecuteTime": {
     "end_time": "2020-02-15T14:38:22.781128Z",
     "start_time": "2020-02-15T14:38:22.778590Z"
    }
   },
   "outputs": [
    {
     "name": "stdout",
     "output_type": "stream",
     "text": [
      "top 10 words for the negative:\n",
      " ('nothing', 'script', 'poor', 'awful', 'waste', 'unfortunately', 'supposed', 'boring', 'worst', 'bad')\n"
     ]
    }
   ],
   "source": [
    "# so the top 10 words for the negative are below:\n",
    "negative_top_tfidf_10 = vocab_new_tfidf[-10:]\n",
    "print('top 10 words for the negative:\\n',negative_top_tfidf_10)"
   ]
  },
  {
   "cell_type": "markdown",
   "metadata": {},
   "source": [
    "According to the top 10 words in the tfidf mode. Some of the classifier's features would generalise well while some are bad in a different domain. I will pick up 'great', 'fun', 'perfectly', 'terrific', 'boring', 'awful', 'unfortunately', 'bad' etc. as important in the new domain."
   ]
  },
  {
   "cell_type": "markdown",
   "metadata": {},
   "source": [
    "### Discuss how did you choose model hyperparameters (e.g. learning rate and regularisation strength)? What is the relation between training epochs and learning rate? How the regularisation strength affects performance?"
   ]
  },
  {
   "cell_type": "markdown",
   "metadata": {},
   "source": [
    "I choose the right value of learning rate and regularisation strength to make the train loss and validation loss prone to be right at the stable status and make the losses as small as possible or the F1-score as high as possible and prevent the overfitting phenomenon. When the learning rate is greater, the epochs are less. The regularisation strength can accelerate the training process but may make the final losses not reach to a stable status."
   ]
  },
  {
   "cell_type": "markdown",
   "metadata": {},
   "source": [
    "\n",
    "\n",
    "## Full Results\n",
    "\n",
    "Add here your results:\n",
    "\n",
    "| LR | Precision  | Recall  | F1-Score  |\n",
    "|:-:|:-:|:-:|:-:|\n",
    "| BOW-count  |0.850|0.821|0.835|\n",
    "| BOW-tfidf  |0.930|0.781|0.849|\n"
   ]
  },
  {
   "cell_type": "markdown",
   "metadata": {},
   "source": [
    "# Multi-class Logistic Regression \n",
    "\n",
    "Now you need to train a Multiclass Logistic Regression (MLR) Classifier by extending the Binary model you developed above. You will use the MLR model to perform topic classification on the AG news dataset consisting of three classes:"
   ]
  },
  {
   "cell_type": "markdown",
   "metadata": {},
   "source": [
    "- Class 1: World\n",
    "- Class 2: Sports\n",
    "- Class 3: Business"
   ]
  },
  {
   "cell_type": "markdown",
   "metadata": {},
   "source": [
    "You need to follow the same process as in Task 1 for data processing and feature extraction by reusing the functions you wrote."
   ]
  },
  {
   "cell_type": "code",
   "execution_count": 247,
   "metadata": {
    "ExecuteTime": {
     "end_time": "2020-02-15T14:18:03.212229Z",
     "start_time": "2020-02-15T14:18:03.185261Z"
    }
   },
   "outputs": [],
   "source": [
    "random.seed(123)\n",
    "np.random.seed(123)\n",
    "\n",
    "# load data\n",
    "data_tr = pd.read_csv('data_topic/train.csv',header=None)\n",
    "data_dev = pd.read_csv('data_topic/dev.csv',header=None)\n",
    "data_test = pd.read_csv('data_topic/test.csv',header=None)"
   ]
  },
  {
   "cell_type": "code",
   "execution_count": 248,
   "metadata": {
    "ExecuteTime": {
     "end_time": "2020-02-15T14:18:03.515585Z",
     "start_time": "2020-02-15T14:18:03.508299Z"
    }
   },
   "outputs": [
    {
     "data": {
      "text/html": [
       "<div>\n",
       "<style scoped>\n",
       "    .dataframe tbody tr th:only-of-type {\n",
       "        vertical-align: middle;\n",
       "    }\n",
       "\n",
       "    .dataframe tbody tr th {\n",
       "        vertical-align: top;\n",
       "    }\n",
       "\n",
       "    .dataframe thead th {\n",
       "        text-align: right;\n",
       "    }\n",
       "</style>\n",
       "<table border=\"1\" class=\"dataframe\">\n",
       "  <thead>\n",
       "    <tr style=\"text-align: right;\">\n",
       "      <th></th>\n",
       "      <th>0</th>\n",
       "      <th>1</th>\n",
       "    </tr>\n",
       "  </thead>\n",
       "  <tbody>\n",
       "    <tr>\n",
       "      <td>0</td>\n",
       "      <td>1</td>\n",
       "      <td>Reuters - Venezuelans turned out early\\and in ...</td>\n",
       "    </tr>\n",
       "    <tr>\n",
       "      <td>1</td>\n",
       "      <td>1</td>\n",
       "      <td>Reuters - South Korean police used water canno...</td>\n",
       "    </tr>\n",
       "    <tr>\n",
       "      <td>2</td>\n",
       "      <td>1</td>\n",
       "      <td>Reuters - Thousands of Palestinian\\prisoners i...</td>\n",
       "    </tr>\n",
       "    <tr>\n",
       "      <td>3</td>\n",
       "      <td>1</td>\n",
       "      <td>AFP - Sporadic gunfire and shelling took place...</td>\n",
       "    </tr>\n",
       "    <tr>\n",
       "      <td>4</td>\n",
       "      <td>1</td>\n",
       "      <td>AP - Dozens of Rwandan soldiers flew into Suda...</td>\n",
       "    </tr>\n",
       "  </tbody>\n",
       "</table>\n",
       "</div>"
      ],
      "text/plain": [
       "   0                                                  1\n",
       "0  1  Reuters - Venezuelans turned out early\\and in ...\n",
       "1  1  Reuters - South Korean police used water canno...\n",
       "2  1  Reuters - Thousands of Palestinian\\prisoners i...\n",
       "3  1  AFP - Sporadic gunfire and shelling took place...\n",
       "4  1  AP - Dozens of Rwandan soldiers flew into Suda..."
      ]
     },
     "execution_count": 248,
     "metadata": {},
     "output_type": "execute_result"
    }
   ],
   "source": [
    "data_tr.head()"
   ]
  },
  {
   "cell_type": "code",
   "execution_count": 249,
   "metadata": {
    "ExecuteTime": {
     "end_time": "2020-02-15T14:18:03.806523Z",
     "start_time": "2020-02-15T14:18:03.798279Z"
    }
   },
   "outputs": [],
   "source": [
    "# transform into Python lists\n",
    "train_topic_list=data_tr[1].tolist()\n",
    "dev_topic_list=data_dev[1].tolist()\n",
    "test_topic_list=data_test[1].tolist()\n",
    "# transform labels into NumPy arrays\n",
    "Y_topic_tr = np.array(data_tr[0])\n",
    "Y_topic_dev = np.array(data_dev[0])\n",
    "Y_topic_test = np.array(data_test[0])"
   ]
  },
  {
   "cell_type": "code",
   "execution_count": 250,
   "metadata": {
    "ExecuteTime": {
     "end_time": "2020-02-15T14:18:04.508938Z",
     "start_time": "2020-02-15T14:18:04.171071Z"
    }
   },
   "outputs": [
    {
     "name": "stdout",
     "output_type": "stream",
     "text": [
      "5000\n",
      "\n",
      "['score', 'slam', 'relations', 'prominent', 'between', ('three', 'years'), 'walker', 'becomes', 'www', 'custody', 'amat', ('set', 'start'), 'berlusconi', ('week', 'during', 'depth'), 'hands', ('back', 'into'), 'disappeared', ('jose', 'calif'), ('hunger', 'strike'), 'title', 'size', ('south', 'africa'), 'impact', 'stocks', 'then', 'managing', ('presidential', 'candidate'), 'showed', 'opec', 'amid', 'investors', ('meter', 'freestyle', 'relay'), ('reversed', 'government', 'said'), 'ohalete', 'month', ('company', 'wall'), 'region', 'office', 'strategy', ('san', 'diego'), ('wednesday', 'splashing', 'cold'), 'among', ('holy', 'city'), 'web', ('gold', 'united'), 'greece', 'midday', 'seattle', ('fleet', 'bank'), ('mart', 'lowe'), 'many', 'nuclear', 'democracy', ('fell', 'more', 'than'), ('season', 'after', 'undergoing'), 'but', ('white', 'sox', 'manager'), ('team', 'lost'), 'if', ('world', 'number'), ('third', 'quarter'), ('reuters', 'deere'), ('freestyle', 'relay'), ('conspiracy', 'murder'), 'militant', 'nbc', 'villa', ('invoices', 'halliburton'), 'return', ('investors', 'put'), 'snyder', 'treat', ('stock', 'exchange'), 'euros', 'billions', 'recently', 'defence', 'spitz', 'damage', 'steve', 'there', 'tutsis', ('future', 'invoices'), 'damages', ('peter', 'falconio'), ('wednesday', 'posted'), ('web', 'search'), ('oil', 'giant'), ('surged', 'year', 'mortgage'), 'greeks', ('greece', 'olympic', 'preliminary'), 'fund', 'cash', 'larry', 'diving', ('today', 'after'), ('corp', 'said'), ('million', 'people'), 'around', 'declared']\n",
      "\n",
      "[('reuters', 631), ('said', 432), ('tuesday', 413), ('wednesday', 344), ('new', 325), ('after', 295), ('ap', 275), ('athens', 245), ('monday', 221), ('first', 210)]\n"
     ]
    }
   ],
   "source": [
    "vocab_topic, df_topic, ngram_counts_topic = get_vocab(train_topic_list, ngram_range=(1,3), keep_topN=5000, stop_words=stop_words)\n",
    "print(len(vocab_topic))\n",
    "print()\n",
    "print(list(vocab_topic)[:100])\n",
    "print()\n",
    "print(df_topic.most_common()[:10])"
   ]
  },
  {
   "cell_type": "code",
   "execution_count": 251,
   "metadata": {},
   "outputs": [],
   "source": [
    "# create word dictionaries for reference\n",
    "vocab_dict_topic = {}\n",
    "for i, gram in enumerate(vocab_topic):\n",
    "    vocab_dict_topic[gram] = i"
   ]
  },
  {
   "cell_type": "code",
   "execution_count": 252,
   "metadata": {
    "ExecuteTime": {
     "end_time": "2020-02-15T14:18:04.706802Z",
     "start_time": "2020-02-15T14:18:04.511061Z"
    }
   },
   "outputs": [],
   "source": [
    "# extract n-grams for each text in the training, validation and test sets\n",
    "train_gram_topic = []\n",
    "for doc in train_topic_list:\n",
    "    cur_str = ''\n",
    "    for line in doc:\n",
    "        cur_str += str(line)\n",
    "    train_gram_topic.append(extract_ngrams(cur_str, ngram_range=(1,3), stop_words=stop_words))\n",
    "    \n",
    "dev_gram_topic = []\n",
    "for doc in dev_topic_list:\n",
    "    cur_str = ''\n",
    "    for line in doc:\n",
    "        cur_str += str(line)\n",
    "    dev_gram_topic.append(extract_ngrams(cur_str, ngram_range=(1,3), stop_words=stop_words))\n",
    "    \n",
    "test_gram_topic = []\n",
    "for doc in test_topic_list:\n",
    "    cur_str = ''\n",
    "    for line in doc:\n",
    "        cur_str += str(line)\n",
    "    test_gram_topic.append(extract_ngrams(cur_str, ngram_range=(1,3), stop_words=stop_words))"
   ]
  },
  {
   "cell_type": "code",
   "execution_count": 253,
   "metadata": {},
   "outputs": [],
   "source": [
    "def vectorise_topic(X_ngram, vocab_topic):\n",
    "    X_vec = [[0 for j in range(len(vocab_topic))] for i in range(len(X_ngram))]\n",
    "    for i, doc in enumerate(X_ngram):\n",
    "        for gram in doc:\n",
    "            if gram in vocab_dict_topic:\n",
    "                cur_index = vocab_dict_topic[gram]\n",
    "                X_vec[i][cur_index] += 1\n",
    "    \n",
    "    return np.array(X_vec)"
   ]
  },
  {
   "cell_type": "code",
   "execution_count": 262,
   "metadata": {},
   "outputs": [],
   "source": [
    "# vectorise train, development and test set with tf\n",
    "X_tr_count_topic = vectorise_topic(train_gram_topic, vocab_topic)\n",
    "X_dev_count_topic = vectorise_topic(dev_gram_topic, vocab_topic)\n",
    "X_test_count_topic = vectorise_topic(test_gram_topic, vocab_topic)"
   ]
  },
  {
   "cell_type": "code",
   "execution_count": 263,
   "metadata": {},
   "outputs": [],
   "source": [
    "# calculate idf\n",
    "cur_ngram_df_topic = df_topic.most_common(5000)\n",
    "ngram_df_topic = [0 for i in range(len(vocab_topic))]\n",
    "# keep ngram_df_topic's order in the same sequence with vocab_topic\n",
    "for gram in cur_ngram_df_topic:\n",
    "    cur_index = vocab_dict_topic[gram[0]]\n",
    "    ngram_df_topic[cur_index] = gram\n",
    "D_topic = len(train_topic_list)\n",
    "idfs_topic = [math.log10(D_topic / x[1]) for x in ngram_df_topic]\n",
    "idfs_topic = np.array(idfs_topic)"
   ]
  },
  {
   "cell_type": "code",
   "execution_count": 265,
   "metadata": {},
   "outputs": [],
   "source": [
    "# vectorise train set with tfidf\n",
    "X_tr_topic_tfidf = [[tf*idfs_topic[i] for (i, tf) in enumerate(doc)] for doc in X_tr_count_topic]\n",
    "X_tr_topic_tfidf = np.array(X_tr_topic_tfidf)"
   ]
  },
  {
   "cell_type": "code",
   "execution_count": 266,
   "metadata": {},
   "outputs": [],
   "source": [
    "# vectorise devlopment and test set with tfidf\n",
    "X_dev_topic_tfidf = [[tf*idfs_topic[i] for (i, tf) in enumerate(doc)] for doc in X_dev_count_topic]\n",
    "X_dev_topic_tfidf = np.array(X_dev_topic_tfidf)\n",
    "\n",
    "X_test_topic_tfidf = [[tf*idfs_topic[i] for (i, tf) in enumerate(doc)] for doc in X_test_count_topic]\n",
    "X_test_topic_tfidf = np.array(X_test_topic_tfidf)"
   ]
  },
  {
   "cell_type": "markdown",
   "metadata": {},
   "source": [
    "Now you need to change `SGD` to support multiclass datasets. First you need to develop a `softmax` function. It takes as input:\n",
    "\n",
    "- `z`: array of real numbers \n",
    "\n",
    "and returns:\n",
    "\n",
    "- `smax`: the softmax of `z`"
   ]
  },
  {
   "cell_type": "code",
   "execution_count": 267,
   "metadata": {
    "ExecuteTime": {
     "end_time": "2020-02-15T14:18:07.440998Z",
     "start_time": "2020-02-15T14:18:07.437915Z"
    }
   },
   "outputs": [],
   "source": [
    "def softmax(z):\n",
    "    # sum up a;; the exp(z) in the first dimension\n",
    "    smax = np.exp(z)/np.sum(np.exp(z),axis=0)\n",
    "    smax = smax.T\n",
    "    \n",
    "    return smax"
   ]
  },
  {
   "cell_type": "markdown",
   "metadata": {},
   "source": [
    "Then modify `predict_proba` and `predict_class` functions for the multiclass case:"
   ]
  },
  {
   "cell_type": "code",
   "execution_count": 268,
   "metadata": {
    "ExecuteTime": {
     "end_time": "2020-02-15T14:18:07.445451Z",
     "start_time": "2020-02-15T14:18:07.442851Z"
    }
   },
   "outputs": [],
   "source": [
    "def predict_proba2(X, weights):\n",
    "    # z is the mastrix product of X and weights\n",
    "    Z = np.dot(weights, X.T)\n",
    "    preds_proba = softmax(Z)\n",
    "    \n",
    "    return preds_proba"
   ]
  },
  {
   "cell_type": "code",
   "execution_count": 269,
   "metadata": {
    "ExecuteTime": {
     "end_time": "2020-02-15T14:18:07.449814Z",
     "start_time": "2020-02-15T14:18:07.447145Z"
    }
   },
   "outputs": [],
   "source": [
    "def predict_class2(X, weights):\n",
    "    \n",
    "    cur_prob = predict_proba(X, weights)\n",
    "    # store each index of the greatest value\n",
    "    preds_class = np.argmax(cur_prob, axis=1)\n",
    "    preds_class = np.array([x+1 for x in preds_class])\n",
    "    \n",
    "    return preds_class"
   ]
  },
  {
   "cell_type": "markdown",
   "metadata": {},
   "source": [
    "Toy example and expected functionality of the functions above:"
   ]
  },
  {
   "cell_type": "code",
   "execution_count": 270,
   "metadata": {
    "ExecuteTime": {
     "end_time": "2020-02-15T14:18:08.059902Z",
     "start_time": "2020-02-15T14:18:08.056774Z"
    }
   },
   "outputs": [],
   "source": [
    "X = np.array([[0.1,0.2],[0.2,0.1],[0.1,-0.2]])\n",
    "w = np.array([[2,-5],[-5,2]])"
   ]
  },
  {
   "cell_type": "code",
   "execution_count": 271,
   "metadata": {
    "ExecuteTime": {
     "end_time": "2020-02-15T14:18:08.495464Z",
     "start_time": "2020-02-15T14:18:08.491074Z"
    }
   },
   "outputs": [
    {
     "data": {
      "text/plain": [
       "array([[0.33181223, 0.66818777],\n",
       "       [0.66818777, 0.33181223],\n",
       "       [0.89090318, 0.10909682]])"
      ]
     },
     "execution_count": 271,
     "metadata": {},
     "output_type": "execute_result"
    }
   ],
   "source": [
    "predict_proba2(X, w)"
   ]
  },
  {
   "cell_type": "code",
   "execution_count": 272,
   "metadata": {
    "ExecuteTime": {
     "end_time": "2020-02-15T14:18:08.714215Z",
     "start_time": "2020-02-15T14:18:08.710098Z"
    }
   },
   "outputs": [
    {
     "data": {
      "text/plain": [
       "array([2, 1, 1])"
      ]
     },
     "execution_count": 272,
     "metadata": {},
     "output_type": "execute_result"
    }
   ],
   "source": [
    "predict_class2(X, w)"
   ]
  },
  {
   "cell_type": "markdown",
   "metadata": {},
   "source": [
    "Now you need to compute the categorical cross entropy loss (extending the binary loss to support multiple classes)."
   ]
  },
  {
   "cell_type": "code",
   "execution_count": 273,
   "metadata": {
    "ExecuteTime": {
     "end_time": "2020-02-15T14:30:48.047338Z",
     "start_time": "2020-02-15T14:30:48.044395Z"
    }
   },
   "outputs": [],
   "source": [
    "def categorical_loss(X, Y, weights, num_classes=5, alpha=0.00001):\n",
    "    # get the prediction possibilities\n",
    "    H = predict_proba2(X, weights)\n",
    "    m = Y.shape[0]\n",
    "    # calculate the loss\n",
    "    L = np.sum(-Y*np.log(H))/m\n",
    "    weights_new = np.array([x*x for x in weights])\n",
    "    # add weights\n",
    "    l = L + alpha*np.sum(weights_new)\n",
    "    return l"
   ]
  },
  {
   "cell_type": "markdown",
   "metadata": {
    "ExecuteTime": {
     "end_time": "2020-02-15T14:08:59.937442Z",
     "start_time": "2020-02-15T14:08:59.932221Z"
    }
   },
   "source": [
    "Finally you need to modify SGD to support the categorical cross entropy loss:"
   ]
  },
  {
   "cell_type": "code",
   "execution_count": 274,
   "metadata": {},
   "outputs": [],
   "source": [
    "# transform original vector in triple-dimension form data\n",
    "def transform_data(origin_y, num_classes):\n",
    "    \n",
    "    new_y = np.zeros([origin_y.shape[0], num_classes])\n",
    "    for i in range(origin_y.shape[0]):\n",
    "        new_y[i][origin_y[i]-1] = 1\n",
    "\n",
    "    return new_y"
   ]
  },
  {
   "cell_type": "code",
   "execution_count": 278,
   "metadata": {
    "ExecuteTime": {
     "end_time": "2020-02-15T14:18:10.176885Z",
     "start_time": "2020-02-15T14:18:10.165021Z"
    }
   },
   "outputs": [],
   "source": [
    "def SGD2(X_tr, Y_tr, X_dev=[], Y_dev=[], num_classes=5, lr=0.01, alpha=0.00001, epochs=5, tolerance=0.0001, print_progress=True):\n",
    "    \n",
    "    training_loss_history = []\n",
    "    validation_loss_history = []\n",
    "    # initiate weights\n",
    "    W = np.zeros((num_classes,X_tr.shape[1]))\n",
    "    # transform development vector\n",
    "    Y_dev = transform_data(Y_dev, num_classes)\n",
    "    loss_dev = categorical_loss(X_dev, Y_dev, W, num_classes, alpha)\n",
    "    # transform train vector\n",
    "    Y_tr = transform_data(Y_tr, num_classes)\n",
    "        \n",
    "    for e in range(epochs):\n",
    "        # shuffle data\n",
    "        random.seed(123)\n",
    "        np.random.seed(123)\n",
    "        shuffle_indices = np.random.permutation(np.arange(len(X_tr))) \n",
    "        X_tr = X_tr[shuffle_indices]\n",
    "        Y_tr = Y_tr[shuffle_indices]\n",
    "        # update weights after each iteration\n",
    "        for i,x in enumerate(X_tr):\n",
    "            cur_x = np.array([x])\n",
    "            h = predict_proba2(cur_x, W)\n",
    "            dW = np.dot(cur_x.T, (h-Y_tr[i])).T + 2*alpha*W\n",
    "            W -= lr*dW\n",
    "        loss_tr = categorical_loss(X_tr, Y_tr, W, num_classes, alpha)\n",
    "        training_loss_history.append(loss_tr)\n",
    "        loss_cur = categorical_loss(X_dev, Y_dev, W, num_classes, alpha)\n",
    "        validation_loss_history.append(loss_cur)\n",
    "        if print_progress:\n",
    "            print('Epoch: %d| Training loss: %f | Validation loss: %f'%(e,loss_tr,loss_cur))\n",
    "        if loss_dev - loss_cur < tolerance:\n",
    "            print('diff',loss_dev - loss_cur)\n",
    "            break\n",
    "        loss_dev = loss_cur\n",
    "    \n",
    "    weights = W\n",
    "    training_loss_history = np.array(training_loss_history)\n",
    "    validation_loss_history = np.array(validation_loss_history)\n",
    "\n",
    "    return weights, training_loss_history, validation_loss_history"
   ]
  },
  {
   "cell_type": "markdown",
   "metadata": {
    "ExecuteTime": {
     "end_time": "2020-02-15T14:10:15.772383Z",
     "start_time": "2020-02-15T14:10:15.767855Z"
    }
   },
   "source": [
    "Now you are ready to train and evaluate you MLR following the same steps as in Task 1 for both Count and tfidf features:"
   ]
  },
  {
   "cell_type": "code",
   "execution_count": 286,
   "metadata": {
    "ExecuteTime": {
     "end_time": "2020-02-15T14:18:55.324956Z",
     "start_time": "2020-02-15T14:18:11.720952Z"
    }
   },
   "outputs": [
    {
     "name": "stdout",
     "output_type": "stream",
     "text": [
      "Epoch: 0| Training loss: 0.704145 | Validation loss: 0.831907\n",
      "Epoch: 1| Training loss: 0.569983 | Validation loss: 0.711250\n",
      "Epoch: 2| Training loss: 0.495055 | Validation loss: 0.640205\n",
      "Epoch: 3| Training loss: 0.444826 | Validation loss: 0.592580\n",
      "Epoch: 4| Training loss: 0.407888 | Validation loss: 0.557566\n",
      "Epoch: 5| Training loss: 0.379160 | Validation loss: 0.530494\n",
      "Epoch: 6| Training loss: 0.355818 | Validation loss: 0.509419\n",
      "Epoch: 7| Training loss: 0.336370 | Validation loss: 0.491814\n",
      "Epoch: 8| Training loss: 0.319848 | Validation loss: 0.477267\n",
      "Epoch: 9| Training loss: 0.305552 | Validation loss: 0.464831\n",
      "Epoch: 10| Training loss: 0.293042 | Validation loss: 0.453765\n",
      "Epoch: 11| Training loss: 0.281923 | Validation loss: 0.444349\n",
      "Epoch: 12| Training loss: 0.271995 | Validation loss: 0.435863\n",
      "Epoch: 13| Training loss: 0.263046 | Validation loss: 0.428559\n",
      "Epoch: 14| Training loss: 0.254925 | Validation loss: 0.421821\n",
      "Epoch: 15| Training loss: 0.247511 | Validation loss: 0.415894\n",
      "Epoch: 16| Training loss: 0.240711 | Validation loss: 0.410622\n",
      "Epoch: 17| Training loss: 0.234423 | Validation loss: 0.405565\n",
      "Epoch: 18| Training loss: 0.228617 | Validation loss: 0.401007\n",
      "Epoch: 19| Training loss: 0.223203 | Validation loss: 0.396740\n",
      "Epoch: 20| Training loss: 0.218162 | Validation loss: 0.392778\n",
      "Epoch: 21| Training loss: 0.213443 | Validation loss: 0.389136\n",
      "Epoch: 22| Training loss: 0.209023 | Validation loss: 0.385860\n",
      "Epoch: 23| Training loss: 0.204862 | Validation loss: 0.382744\n",
      "Epoch: 24| Training loss: 0.200945 | Validation loss: 0.379901\n",
      "Epoch: 25| Training loss: 0.197249 | Validation loss: 0.377341\n",
      "Epoch: 26| Training loss: 0.193747 | Validation loss: 0.374759\n",
      "Epoch: 27| Training loss: 0.190430 | Validation loss: 0.372419\n",
      "Epoch: 28| Training loss: 0.187281 | Validation loss: 0.370194\n",
      "Epoch: 29| Training loss: 0.184288 | Validation loss: 0.368106\n",
      "Epoch: 30| Training loss: 0.181438 | Validation loss: 0.366195\n",
      "Epoch: 31| Training loss: 0.178722 | Validation loss: 0.364429\n",
      "Epoch: 32| Training loss: 0.176128 | Validation loss: 0.362552\n",
      "Epoch: 33| Training loss: 0.173646 | Validation loss: 0.361033\n",
      "Epoch: 34| Training loss: 0.171274 | Validation loss: 0.359448\n",
      "Epoch: 35| Training loss: 0.169002 | Validation loss: 0.357939\n",
      "Epoch: 36| Training loss: 0.166825 | Validation loss: 0.356651\n",
      "Epoch: 37| Training loss: 0.164735 | Validation loss: 0.355356\n",
      "Epoch: 38| Training loss: 0.162729 | Validation loss: 0.354069\n",
      "Epoch: 39| Training loss: 0.160798 | Validation loss: 0.352768\n",
      "Epoch: 40| Training loss: 0.158945 | Validation loss: 0.351554\n",
      "Epoch: 41| Training loss: 0.157159 | Validation loss: 0.350357\n",
      "Epoch: 42| Training loss: 0.155433 | Validation loss: 0.349479\n",
      "Epoch: 43| Training loss: 0.153775 | Validation loss: 0.348589\n",
      "Epoch: 44| Training loss: 0.152174 | Validation loss: 0.347661\n",
      "Epoch: 45| Training loss: 0.150634 | Validation loss: 0.346846\n",
      "Epoch: 46| Training loss: 0.149141 | Validation loss: 0.345969\n",
      "Epoch: 47| Training loss: 0.147692 | Validation loss: 0.344961\n",
      "Epoch: 48| Training loss: 0.146298 | Validation loss: 0.344222\n",
      "Epoch: 49| Training loss: 0.144949 | Validation loss: 0.343459\n",
      "Epoch: 50| Training loss: 0.143640 | Validation loss: 0.342702\n",
      "Epoch: 51| Training loss: 0.142376 | Validation loss: 0.342055\n",
      "Epoch: 52| Training loss: 0.141150 | Validation loss: 0.341380\n",
      "Epoch: 53| Training loss: 0.139959 | Validation loss: 0.340674\n",
      "Epoch: 54| Training loss: 0.138807 | Validation loss: 0.340010\n",
      "Epoch: 55| Training loss: 0.137689 | Validation loss: 0.339465\n",
      "Epoch: 56| Training loss: 0.136602 | Validation loss: 0.338919\n",
      "Epoch: 57| Training loss: 0.135548 | Validation loss: 0.338300\n",
      "Epoch: 58| Training loss: 0.134524 | Validation loss: 0.337856\n",
      "Epoch: 59| Training loss: 0.133529 | Validation loss: 0.337334\n",
      "Epoch: 60| Training loss: 0.132562 | Validation loss: 0.336806\n",
      "Epoch: 61| Training loss: 0.131621 | Validation loss: 0.336407\n",
      "Epoch: 62| Training loss: 0.130708 | Validation loss: 0.335956\n",
      "Epoch: 63| Training loss: 0.129817 | Validation loss: 0.335485\n",
      "Epoch: 64| Training loss: 0.128951 | Validation loss: 0.335084\n",
      "Epoch: 65| Training loss: 0.128107 | Validation loss: 0.334654\n",
      "Epoch: 66| Training loss: 0.127286 | Validation loss: 0.334307\n",
      "Epoch: 67| Training loss: 0.126487 | Validation loss: 0.333964\n",
      "Epoch: 68| Training loss: 0.125706 | Validation loss: 0.333575\n",
      "Epoch: 69| Training loss: 0.124948 | Validation loss: 0.333301\n",
      "Epoch: 70| Training loss: 0.124205 | Validation loss: 0.332896\n",
      "Epoch: 71| Training loss: 0.123483 | Validation loss: 0.332550\n",
      "Epoch: 72| Training loss: 0.122778 | Validation loss: 0.332237\n",
      "Epoch: 73| Training loss: 0.122090 | Validation loss: 0.331964\n",
      "Epoch: 74| Training loss: 0.121419 | Validation loss: 0.331667\n",
      "Epoch: 75| Training loss: 0.120765 | Validation loss: 0.331414\n",
      "Epoch: 76| Training loss: 0.120128 | Validation loss: 0.331230\n",
      "Epoch: 77| Training loss: 0.119502 | Validation loss: 0.330949\n",
      "Epoch: 78| Training loss: 0.118892 | Validation loss: 0.330714\n",
      "Epoch: 79| Training loss: 0.118294 | Validation loss: 0.330453\n",
      "Epoch: 80| Training loss: 0.117710 | Validation loss: 0.330148\n",
      "Epoch: 81| Training loss: 0.117141 | Validation loss: 0.329912\n",
      "Epoch: 82| Training loss: 0.116584 | Validation loss: 0.329772\n",
      "Epoch: 83| Training loss: 0.116041 | Validation loss: 0.329605\n",
      "Epoch: 84| Training loss: 0.115507 | Validation loss: 0.329361\n",
      "Epoch: 85| Training loss: 0.114988 | Validation loss: 0.329145\n",
      "Epoch: 86| Training loss: 0.114479 | Validation loss: 0.328978\n",
      "Epoch: 87| Training loss: 0.113980 | Validation loss: 0.328792\n",
      "Epoch: 88| Training loss: 0.113492 | Validation loss: 0.328673\n",
      "Epoch: 89| Training loss: 0.113015 | Validation loss: 0.328557\n",
      "Epoch: 90| Training loss: 0.112548 | Validation loss: 0.328437\n",
      "Epoch: 91| Training loss: 0.112091 | Validation loss: 0.328314\n",
      "Epoch: 92| Training loss: 0.111642 | Validation loss: 0.328107\n",
      "Epoch: 93| Training loss: 0.111202 | Validation loss: 0.327917\n",
      "Epoch: 94| Training loss: 0.110773 | Validation loss: 0.327739\n",
      "Epoch: 95| Training loss: 0.110352 | Validation loss: 0.327615\n",
      "Epoch: 96| Training loss: 0.109939 | Validation loss: 0.327510\n",
      "Epoch: 97| Training loss: 0.109535 | Validation loss: 0.327398\n",
      "Epoch: 98| Training loss: 0.109139 | Validation loss: 0.327387\n",
      "diff 1.11085165699909e-05\n"
     ]
    }
   ],
   "source": [
    "w_count_topic, loss_tr_count, dev_loss_count = SGD2(X_tr_count_topic, Y_topic_tr, \n",
    "                                             X_dev=X_dev_count_topic, \n",
    "                                             Y_dev=Y_topic_dev,\n",
    "                                             num_classes=3,\n",
    "                                             lr=0.003, \n",
    "                                             alpha=0.0001, \n",
    "                                             epochs=200)"
   ]
  },
  {
   "cell_type": "markdown",
   "metadata": {},
   "source": [
    "Plot training and validation process and explain if your model overfit, underfit or is about right:"
   ]
  },
  {
   "cell_type": "code",
   "execution_count": 287,
   "metadata": {
    "ExecuteTime": {
     "end_time": "2020-02-15T14:31:09.903453Z",
     "start_time": "2020-02-15T14:31:09.901360Z"
    }
   },
   "outputs": [
    {
     "data": {
      "image/png": "[encoded data removed]",
      "text/plain": [
       "<Figure size 432x288 with 1 Axes>"
      ]
     },
     "metadata": {
      "needs_background": "light"
     },
     "output_type": "display_data"
    }
   ],
   "source": [
    "cur_size_topic = loss_tr_count.shape[0]\n",
    "x_topic = np.linspace(0,cur_size_topic-1,num = cur_size_topic)\n",
    "plt.title('Training Monitering')\n",
    "plt.plot(x_topic, loss_tr_count, color='green', label='training loss')\n",
    "plt.plot(x_topic, dev_loss_count, color='skyblue', label='validation loss')\n",
    "plt.legend()\n",
    "plt.xlabel('Epochs')\n",
    "plt.ylabel('Loss')\n",
    "plt.show()"
   ]
  },
  {
   "cell_type": "markdown",
   "metadata": {},
   "source": [
    "It may be about right. Because both the validation loss and training loss tends to be stable, their losses are both relatively small and their losses doen't differ a lot."
   ]
  },
  {
   "cell_type": "markdown",
   "metadata": {},
   "source": [
    "Compute accuracy, precision, recall and F1-scores:"
   ]
  },
  {
   "cell_type": "code",
   "execution_count": 288,
   "metadata": {
    "ExecuteTime": {
     "end_time": "2020-02-15T14:32:12.606498Z",
     "start_time": "2020-02-15T14:32:12.604164Z"
    }
   },
   "outputs": [
    {
     "name": "stdout",
     "output_type": "stream",
     "text": [
      "Accuracy: 0.8677777777777778\n",
      "Precision: 0.8688891450314328\n",
      "Recall: 0.8677777777777779\n",
      "F1-Score: 0.8683331057989458\n"
     ]
    }
   ],
   "source": [
    "def accuracy_score2(Y_te,preds_te_count):\n",
    "    Y_predict = predict_class2(preds_te_count, w_count_topic)\n",
    "    # get all the right predictions\n",
    "    result_arr = Y_te == Y_predict\n",
    "    right_num = sum(result_arr==True)\n",
    "    accuracy_score = right_num/Y_te.shape[0]\n",
    "    return accuracy_score\n",
    "\n",
    "def precision_score2(Y_te,preds_te_count):\n",
    "    Y_predict = predict_class2(preds_te_count, w_count_topic)\n",
    "    ps = 0\n",
    "    # get precision score for each class and sum up them\n",
    "    for i in range(3):\n",
    "        P = Y_te[Y_te == Y_predict] == i+1\n",
    "        total = Y_predict == i+1\n",
    "        P_num = sum(P==True)\n",
    "        total_num = sum(total==True)\n",
    "        ps += P_num/total_num\n",
    "    # get average precision score\n",
    "    precision_score = ps/3\n",
    "    return precision_score\n",
    "\n",
    "def recall_score2(Y_te,preds_te_count):\n",
    "    Y_predict = predict_class2(preds_te_count, w_count_topic)\n",
    "    rs = 0\n",
    "    # get recall value for each class and sum up them\n",
    "    for i in range(3):\n",
    "        P = Y_te[Y_te == Y_predict] == i+1\n",
    "        total = Y_te == i+1\n",
    "        P_num = sum(P==True)\n",
    "        total_num = sum(total==True)\n",
    "        rs += P_num/total_num\n",
    "    # get average recall score\n",
    "    recall_score = rs/3\n",
    "    return recall_score\n",
    "\n",
    "def f1_score2(Y_te,preds_te_count):\n",
    "    PS = precision_score2(Y_te,preds_te_count)\n",
    "    CS = recall_score2(Y_te,preds_te_count)\n",
    "    f1_score = 2*PS*CS/(PS+CS)\n",
    "    return f1_score\n",
    "\n",
    "print('Accuracy:', accuracy_score2(Y_topic_test,X_test_count_topic))\n",
    "print('Precision:', precision_score2(Y_topic_test,X_test_count_topic))\n",
    "print('Recall:', recall_score2(Y_topic_test,X_test_count_topic))\n",
    "print('F1-Score:', f1_score2(Y_topic_test,X_test_count_topic))"
   ]
  },
  {
   "cell_type": "markdown",
   "metadata": {},
   "source": [
    "Print the top-10 words for each class respectively."
   ]
  },
  {
   "cell_type": "code",
   "execution_count": 289,
   "metadata": {
    "ExecuteTime": {
     "end_time": "2020-02-15T14:32:26.224693Z",
     "start_time": "2020-02-15T14:32:26.221886Z"
    }
   },
   "outputs": [
    {
     "name": "stdout",
     "output_type": "stream",
     "text": [
      "top 10 words for the class 1:\n",
      " ('afp', ('athens', 'greece'), 'murder', 'najaf', 'leader', 'beijing', 'president', 'monday', 'troops', 'government')\n",
      "\n",
      "top 10 words for the class 2:\n",
      " ('athens', 'ap', 'team', ('athens', 'reuters'), 'season', 'game', 'coach', 'players', 'olympic', 'baseball')\n",
      "\n",
      "top 10 words for the class 3:\n",
      " ('company', 'business', 'inc', 'corp', 'market', 'bank', 'oil', 'google', 'based', 'service')\n",
      "\n"
     ]
    }
   ],
   "source": [
    "w_count_topic = np.array(w_count_topic)\n",
    "\n",
    "for i, ele in enumerate(w_count_topic):\n",
    "    Z_w_topic = zip(ele,vocab_topic)\n",
    "    # sort the weights for each class\n",
    "    Z_w_sorted_topic = sorted(Z_w_topic,key=lambda x: x[0],reverse=True)\n",
    "    w_new_topic,vocab_new_topic = zip(*Z_w_sorted_topic)\n",
    "\n",
    "    # so the top 10 words for the current class are below:\n",
    "    top_topic_10 = vocab_new_topic[:10]\n",
    "    print('top 10 words for the class %d:\\n %s\\n'%(i+1, top_topic_10))\n"
   ]
  },
  {
   "cell_type": "markdown",
   "metadata": {},
   "source": [
    "According to the top 10 words in the tf mode. These features can't generalise well for they are all specified terms."
   ]
  },
  {
   "cell_type": "code",
   "execution_count": 296,
   "metadata": {},
   "outputs": [
    {
     "name": "stdout",
     "output_type": "stream",
     "text": [
      "Epoch: 0| Training loss: 0.392734 | Validation loss: 0.571504\n",
      "Epoch: 1| Training loss: 0.283510 | Validation loss: 0.466659\n",
      "Epoch: 2| Training loss: 0.230217 | Validation loss: 0.416592\n",
      "Epoch: 3| Training loss: 0.195397 | Validation loss: 0.388028\n",
      "Epoch: 4| Training loss: 0.171502 | Validation loss: 0.367367\n",
      "Epoch: 5| Training loss: 0.155308 | Validation loss: 0.350928\n",
      "Epoch: 6| Training loss: 0.140196 | Validation loss: 0.341024\n",
      "Epoch: 7| Training loss: 0.128820 | Validation loss: 0.331933\n",
      "Epoch: 8| Training loss: 0.119667 | Validation loss: 0.325044\n",
      "Epoch: 9| Training loss: 0.112541 | Validation loss: 0.318808\n",
      "Epoch: 10| Training loss: 0.105383 | Validation loss: 0.313970\n",
      "Epoch: 11| Training loss: 0.100541 | Validation loss: 0.308843\n",
      "Epoch: 12| Training loss: 0.094600 | Validation loss: 0.305686\n",
      "Epoch: 13| Training loss: 0.090100 | Validation loss: 0.302645\n",
      "Epoch: 14| Training loss: 0.086228 | Validation loss: 0.300408\n",
      "Epoch: 15| Training loss: 0.083247 | Validation loss: 0.297736\n",
      "Epoch: 16| Training loss: 0.079622 | Validation loss: 0.295862\n",
      "Epoch: 17| Training loss: 0.076664 | Validation loss: 0.293803\n",
      "Epoch: 18| Training loss: 0.074228 | Validation loss: 0.291966\n",
      "Epoch: 19| Training loss: 0.071760 | Validation loss: 0.290587\n",
      "Epoch: 20| Training loss: 0.069633 | Validation loss: 0.289004\n",
      "Epoch: 21| Training loss: 0.067646 | Validation loss: 0.287855\n",
      "Epoch: 22| Training loss: 0.065852 | Validation loss: 0.286822\n",
      "Epoch: 23| Training loss: 0.064190 | Validation loss: 0.285948\n",
      "Epoch: 24| Training loss: 0.062585 | Validation loss: 0.284904\n",
      "Epoch: 25| Training loss: 0.061209 | Validation loss: 0.284221\n",
      "Epoch: 26| Training loss: 0.059872 | Validation loss: 0.283667\n",
      "Epoch: 27| Training loss: 0.058618 | Validation loss: 0.283161\n",
      "Epoch: 28| Training loss: 0.057429 | Validation loss: 0.282368\n",
      "Epoch: 29| Training loss: 0.056375 | Validation loss: 0.281554\n",
      "Epoch: 30| Training loss: 0.055502 | Validation loss: 0.281076\n",
      "Epoch: 31| Training loss: 0.054461 | Validation loss: 0.280964\n",
      "Epoch: 32| Training loss: 0.053487 | Validation loss: 0.280293\n",
      "Epoch: 33| Training loss: 0.052678 | Validation loss: 0.279973\n",
      "Epoch: 34| Training loss: 0.051823 | Validation loss: 0.279743\n",
      "Epoch: 35| Training loss: 0.051088 | Validation loss: 0.279485\n",
      "Epoch: 36| Training loss: 0.050365 | Validation loss: 0.279161\n",
      "Epoch: 37| Training loss: 0.049682 | Validation loss: 0.279106\n",
      "diff 5.506602436128327e-05\n"
     ]
    }
   ],
   "source": [
    "w_count_tfidf, loss_tr_tfidf, loss_dev_tfidf = SGD2(X_tr_topic_tfidf, Y_topic_tr, \n",
    "                                             X_dev=X_dev_topic_tfidf, \n",
    "                                             Y_dev=Y_topic_dev,\n",
    "                                             num_classes=3,\n",
    "                                             lr=0.004, \n",
    "                                             alpha=0.0001, \n",
    "                                             epochs=200)"
   ]
  },
  {
   "cell_type": "code",
   "execution_count": 321,
   "metadata": {},
   "outputs": [
    {
     "data": {
      "image/png": "[encoded data removed]",
      "text/plain": [
       "<Figure size 432x288 with 1 Axes>"
      ]
     },
     "metadata": {
      "needs_background": "light"
     },
     "output_type": "display_data"
    }
   ],
   "source": [
    "cur_size_tfidf_topic = loss_tr_tfidf.shape[0]\n",
    "x_tfidf_topic = np.linspace(0,cur_size_tfidf_topic-1,num = cur_size_tfidf_topic)\n",
    "plt.title('Training Monitering')\n",
    "plt.plot(x_tfidf_topic, loss_tr_tfidf, color='green', label='training tfidf loss')\n",
    "plt.plot(x_tfidf_topic, loss_dev_tfidf, color='skyblue', label='validation tfidf loss')\n",
    "plt.legend()\n",
    "plt.xlabel('Epochs')\n",
    "plt.ylabel('Loss')\n",
    "plt.show()"
   ]
  },
  {
   "cell_type": "markdown",
   "metadata": {},
   "source": [
    "It may be about right. Because both the validation loss and training loss tends to be stable, their losses are both relatively small and their losses doen't differ a lot."
   ]
  },
  {
   "cell_type": "code",
   "execution_count": 298,
   "metadata": {},
   "outputs": [
    {
     "name": "stdout",
     "output_type": "stream",
     "text": [
      "Accuracy: 0.8733333333333333\n",
      "Precision: 0.8747643595974796\n",
      "Recall: 0.8733333333333334\n",
      "F1-Score: 0.8740482607326477\n"
     ]
    }
   ],
   "source": [
    "print('Accuracy:', accuracy_score2(Y_topic_test,X_test_topic_tfidf))\n",
    "print('Precision:', precision_score2(Y_topic_test,X_test_topic_tfidf))\n",
    "print('Recall:', recall_score2(Y_topic_test,X_test_topic_tfidf))\n",
    "print('F1-Score:', f1_score2(Y_topic_test,X_test_topic_tfidf))"
   ]
  },
  {
   "cell_type": "code",
   "execution_count": 299,
   "metadata": {},
   "outputs": [
    {
     "name": "stdout",
     "output_type": "stream",
     "text": [
      "top 10 words for the class 1:\n",
      " ('afp', ('athens', 'greece'), 'beijing', 'murder', 'said', 'najaf', 'leader', 'india', 'monday', 'president')\n",
      "\n",
      "top 10 words for the class 2:\n",
      " ('ap', 'athens', 'team', ('athens', 'reuters'), 'olympic', 'season', 'game', 'baseball', 'players', 'coach')\n",
      "\n",
      "top 10 words for the class 3:\n",
      " ('company', 'business', 'market', 'oil', 'inc', 'corp', 'google', 'based', 'bank', 'pay')\n",
      "\n"
     ]
    }
   ],
   "source": [
    "w_count_tfidf = np.array(w_count_tfidf)\n",
    "\n",
    "for i, ele in enumerate(w_count_tfidf):\n",
    "    Z_w_topic = zip(ele,vocab_topic)\n",
    "    Z_w_sorted_topic = sorted(Z_w_topic,key=lambda x: x[0],reverse=True)\n",
    "    w_new_topic,vocab_new_topic = zip(*Z_w_sorted_topic)\n",
    "\n",
    "    # so the top 10 words for the current class are below:\n",
    "    top_topic_10 = vocab_new_topic[:10]\n",
    "    print('top 10 words for the class %d:\\n %s\\n'%(i+1, top_topic_10))"
   ]
  },
  {
   "cell_type": "markdown",
   "metadata": {},
   "source": [
    "According to the top 10 words in the tfidf mode. These features can't generalise well for they are all specified terms."
   ]
  },
  {
   "cell_type": "markdown",
   "metadata": {},
   "source": [
    "### Discuss how did you choose model hyperparameters (e.g. learning rate and regularisation strength)? What is the relation between training epochs and learning rate? How the regularisation strength affects performance?"
   ]
  },
  {
   "cell_type": "markdown",
   "metadata": {
    "ExecuteTime": {
     "end_time": "2020-02-15T14:16:19.856538Z",
     "start_time": "2020-02-15T14:16:19.852547Z"
    }
   },
   "source": [
    "I choose the right value of learning rate and regularisation strength to make the train loss and validation loss prone to be right at the stable status and make the losses as small as possible or the F1-score as high as possible and prevent the overfitting phenomenon. When the learning rate is greater, the epochs are less. The regularisation strength can accelerate the training process but may make the final losses not reach to a stable status."
   ]
  },
  {
   "cell_type": "markdown",
   "metadata": {},
   "source": [
    "### Now evaluate BOW-tfidf..."
   ]
  },
  {
   "cell_type": "markdown",
   "metadata": {
    "ExecuteTime": {
     "end_time": "2020-02-15T14:16:42.567569Z",
     "start_time": "2020-02-15T14:16:42.562560Z"
    }
   },
   "source": [
    "## Full Results\n",
    "\n",
    "Add here your results:\n",
    "\n",
    "| LR | Precision  | Recall  | F1-Score  |\n",
    "|:-:|:-:|:-:|:-:|\n",
    "| BOW-count  |0.869|0.868|0.868|\n",
    "| BOW-tfidf  |0.875|0.873|0.874|\n"
   ]
  }
 ],
 "metadata": {
  "kernelspec": {
   "display_name": "Python 3",
   "language": "python",
   "name": "python3"
  },
  "language_info": {
   "codemirror_mode": {
    "name": "ipython",
    "version": 3
   },
   "file_extension": ".py",
   "mimetype": "text/x-python",
   "name": "python",
   "nbconvert_exporter": "python",
   "pygments_lexer": "ipython3",
   "version": "3.7.4"
  }
 },
 "nbformat": 4,
 "nbformat_minor": 2
}
